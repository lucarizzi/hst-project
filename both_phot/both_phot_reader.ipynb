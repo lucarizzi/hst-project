{
 "cells": [
  {
   "cell_type": "code",
   "execution_count": 50,
   "metadata": {
    "collapsed": true
   },
   "outputs": [],
   "source": [
    "import csv\n",
    "import os\n",
    "import pandas as pd\n",
    "import numpy as np\n",
    "import matplotlib.pyplot as plt\n",
    "import matplotlib as mpl\n",
    "from scipy.stats import gaussian_kde"
   ]
  },
  {
   "cell_type": "code",
   "execution_count": 51,
   "metadata": {
    "collapsed": true
   },
   "outputs": [],
   "source": [
    "#prefix = input(\"What is the name of the galaxy?\")\n",
    "#for now,:\n",
    "#prefix='NGC5128-S1'\n",
    "#prefix='CENA-131952'\n",
    "prefix='CENA-132302'\n",
    "\n",
    "#real photometry first\n",
    "real_file = \"%s.phot\" % prefix\n",
    "real_df = pd.read_csv(real_file, delim_whitespace=True, header=None) #create data frame \n",
    "real_df = real_df.iloc[:,:37] #select till relevant end of data frame (quality flag of I)\n",
    "\n",
    "#name columns\n",
    "columns=['extension','chip','x','y','chi','snr','sharp','round','maj_ax','crowd','type',\n",
    "           'cts_V','sky_v','nrm_ct_rt_V','nrm_ct_rt_err_V','inst_vega_v','mag_V','Verr','chi_V','snr_v',\n",
    "           'sharp_V','round_V','crowd_V','flag_V','cts_I','sky_I','nrm_ct_rt_I','nrm_ct_rt_err_I', \n",
    "           'inst_vega_I','mag_I','Ierr','chi_I','snr_I','sharp_I','round_I','crowd_I','flag_I']"
   ]
  },
  {
   "cell_type": "code",
   "execution_count": 52,
   "metadata": {
    "collapsed": true
   },
   "outputs": [],
   "source": [
    "#to distinguish from fake ones in case- Not needed for now I believe!\n",
    "# string = 'real_' #for \"real\"\n",
    "# clmns = [string + x for x in clmns]\n",
    "\n",
    "#assign columns and preview\n",
    "real_df.columns=columns\n",
    "\n",
    "#fix y column if not on first chip \n",
    "real_df['y'] = real_df.apply(lambda x: x.y+2000 if x.extension>1 else x.y, axis=1)\n",
    "#real_df"
   ]
  },
  {
   "cell_type": "code",
   "execution_count": 53,
   "metadata": {
    "collapsed": true
   },
   "outputs": [],
   "source": [
    "#define V-I\n",
    "real_df['V-I'] = real_df['inst_vega_v']-real_df['inst_vega_I']\n",
    "#real_df"
   ]
  },
  {
   "cell_type": "code",
   "execution_count": 54,
   "metadata": {
    "collapsed": true
   },
   "outputs": [],
   "source": [
    "#establish cuts from below line\n",
    "#$5<=2.5 && $7*$7<=0.09 && $11<=2 && $20>=5 && $24==0 && $33>=5 && $37==0'' > ${TARG}.phot2\")\n",
    "\n",
    "real_cut = real_df[(real_df['chi'] < 2.5) & (real_df['sharp']*real_df['sharp'] <= 0.09) & (real_df['type'] <= 2) \n",
    "        & (real_df['snr_v'] >= 5) & (real_df['flag_V'] == 0) & (real_df['snr_I'] >= 5) \n",
    "        & (real_df['flag_I'] == 0)]\n",
    "\n",
    "#real_cut\n"
   ]
  },
  {
   "cell_type": "code",
   "execution_count": 55,
   "metadata": {
    "collapsed": true,
    "scrolled": false
   },
   "outputs": [],
   "source": [
    "fake photometry next\n",
    "fake_file='%s.phot.fake' % prefix #select file \n",
    "\n",
    "with open(fake_file) as f:\n",
    "    reader = csv.reader(f, delimiter=' ', skipinitialspace=True)\n",
    "    first_row = next(reader)\n",
    "    num_cols = len(first_row) #get number of columns in file\n",
    "\n",
    "i = (num_cols - 123) #number of extra columns \n",
    "num_EF = 1 + (i/4) #number of images in each filter\n",
    "\n",
    "fake_df = pd.read_csv(fake_file, delim_whitespace=True, header=None) #create data frame \n",
    "fake_df = fake_df.iloc[:,:45+i] #select till relevant end of data frame (quality flag of I)\n",
    "\n",
    "base_columns=['extension','chip','x','y','counts_V1','mag_V1','counts_I1', 'mag_I1','extension','chip','x','y',\n",
    "           'chi','snr','sharp','round','maj_ax','crowd','type','cts_V','sky_v','nrm_ct_rt_V','nrm_ct_rt_err_V',\n",
    "           'inst_vega_v','mag_V','Verr','chi_V','snr_v','sharp_V','round_V','crowd_V','flag_V','cts_I','sky_I',\n",
    "           'nrm_ct_rt_I','nrm_ct_rt_err_I', 'inst_vega_I','mag_I','Ierr','chi_I','snr_I','sharp_I','round_I',\n",
    "           'crowd_I','flag_I'] #base columns\n",
    "\n",
    "j = 1\n",
    "k = 1\n",
    "l = 1\n",
    "\n",
    "while (j < num_EF):\n",
    "    m = str(j+1)\n",
    "    base_columns.insert(k+5,'counts_V%s' % m) #note- should check this on with both more and less images...\n",
    "    base_columns.insert(k+6,'mag_V%s' % m)    \n",
    "    base_columns.insert(l+9,'counts_I%s' % m) \n",
    "    base_columns.insert(l+10,'mag_I%s' % m)    \n",
    "    j = j+1\n",
    "    k = k+2\n",
    "    l = l+4\n",
    "    \n",
    "if j == num_EF:\n",
    "    fake_df.columns=base_columns\n",
    "\n",
    "#fake_df.iloc[:,4:15] #print relevant columns to see if correct"
   ]
  }
 ],
 "metadata": {
  "kernelspec": {
   "display_name": "Python 3",
   "language": "python",
   "name": "python3"
  },
  "language_info": {
   "codemirror_mode": {
    "name": "ipython",
    "version": 3
   },
   "file_extension": ".py",
   "mimetype": "text/x-python",
   "name": "python",
   "nbconvert_exporter": "python",
   "pygments_lexer": "ipython3",
   "version": "3.6.1"
  }
 },
 "nbformat": 4,
 "nbformat_minor": 2
}
