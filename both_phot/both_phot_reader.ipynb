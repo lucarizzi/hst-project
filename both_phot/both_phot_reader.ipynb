{
 "cells": [
  {
   "cell_type": "code",
   "execution_count": 10,
   "metadata": {
    "scrolled": true
   },
   "outputs": [
    {
     "name": "stdout",
     "output_type": "stream",
     "text": [
      "What is the name of the galaxy?NGC5128-S1\n"
     ]
    }
   ],
   "source": [
    "import pandas as pd\n",
    "import csv\n",
    "import os\n",
    "\n",
    "prefix = input(\"What is the name of the galaxy?\")\n",
    "\n",
    "#real photometry first\n",
    "real_file = \"%s.phot\" % prefix\n",
    "\n",
    "real_df = pd.read_csv(real_file, delim_whitespace=True, header=None) #create data frame \n",
    "real_df = real_df.iloc[:,:37] #select till relevant end of data frame (quality flag of I)\n",
    "\n",
    "#name columns\n",
    "clmns=['extension','chip','x','y','chi','snr','sharp','round','maj_ax','crowd','type',\n",
    "           'cts_V','sky_v','nrm_ct_rt_V','nrm_ct_rt_err_V','inst_vega_v','mag_V','Verr','chi_V','snr_v',\n",
    "           'sharp_V','round_V','crowd_V','flag_V','cts_I','sky_I','nrm_ct_rt_I','nrm_ct_rt_err_I', \n",
    "           'inst_vega_I','mag_I','Ierr','chi_I','snr_I','sharp_I','round_I','crowd_I','flag_I']\n",
    "\n",
    "#to distinguish from fake ones in case we wish to combine these scripts later\n",
    "string = 'rl_' #for \"real\"\n",
    "clmns = [string + x for x in clmns]\n",
    "\n",
    "#assign columns and preview\n",
    "real_df.columns=clmns\n",
    "#real_df\n",
    "\n",
    "\n",
    "\n",
    "#fake photometry next\n",
    "fake_file='%s.phot.fake' % prefix #select file \n",
    "\n",
    "with open(fake_file) as f:\n",
    "    reader = csv.reader(f, delimiter=' ', skipinitialspace=True)\n",
    "    first_row = next(reader)\n",
    "    num_cols = len(first_row) #get number of columns in file\n",
    "\n",
    "i = (num_cols - 123) #number of extra columns \n",
    "num_EF = 1 + (i/4) #number of images in each filter\n",
    "\n",
    "fake_df = pd.read_csv(fake_file, delim_whitespace=True, header=None) #create data frame \n",
    "fake_df = fake_df.iloc[:,:45+i] #select till relevant end of data frame (quality flag of I)\n",
    "\n",
    "base_clmns=['extension','chip','x','y','counts_V1','mag_V1','counts_I1', 'mag_I1','extension','chip','x','y',\n",
    "           'chi','snr','sharp','round','maj_ax','crowd','type','cts_V','sky_v','nrm_ct_rt_V','nrm_ct_rt_err_V',\n",
    "           'inst_vega_v','mag_V','Verr','chi_V','snr_v','sharp_V','round_V','crowd_V','flag_V','cts_I','sky_I',\n",
    "           'nrm_ct_rt_I','nrm_ct_rt_err_I', 'inst_vega_I','mag_I','Ierr','chi_I','snr_I','sharp_I','round_I',\n",
    "           'crowd_I','flag_I'] #base columns\n",
    "\n",
    "j = 1\n",
    "k = 1\n",
    "l = 1\n",
    "\n",
    "while (j < num_EF):\n",
    "    m = str(j+1)\n",
    "    base_clmns.insert(k+5,'counts_V%s' % m) #note- should check this on with both more and less images...\n",
    "    base_clmns.insert(k+6,'mag_V%s' % m)    \n",
    "    base_clmns.insert(l+9,'counts_I%s' % m) \n",
    "    base_clmns.insert(l+10,'mag_I%s' % m)    \n",
    "    j = j+1\n",
    "    k = k+2\n",
    "    l = l+4\n",
    "    \n",
    "if j == num_EF:\n",
    "    fake_df.columns=base_clmns\n",
    "\n",
    "#fake_df.iloc[:,4:15] #print relevant columns to see if correct\n",
    "\n",
    "\n",
    "\n",
    "\n"
   ]
  },
  {
   "cell_type": "code",
   "execution_count": null,
   "metadata": {
    "collapsed": true
   },
   "outputs": [],
   "source": []
  }
 ],
 "metadata": {
  "kernelspec": {
   "display_name": "Python 3",
   "language": "python",
   "name": "python3"
  },
  "language_info": {
   "codemirror_mode": {
    "name": "ipython",
    "version": 3
   },
   "file_extension": ".py",
   "mimetype": "text/x-python",
   "name": "python",
   "nbconvert_exporter": "python",
   "pygments_lexer": "ipython3",
   "version": "3.6.1"
  }
 },
 "nbformat": 4,
 "nbformat_minor": 2
}
