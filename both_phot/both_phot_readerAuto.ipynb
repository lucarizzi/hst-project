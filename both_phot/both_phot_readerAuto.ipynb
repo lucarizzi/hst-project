{
 "cells": [
  {
   "cell_type": "code",
   "execution_count": 1,
   "metadata": {
    "collapsed": true
   },
   "outputs": [],
   "source": [
    "import csv\n",
    "import os,sys\n",
    "import pandas as pd\n",
    "import numpy as np\n",
    "import matplotlib.pyplot as plt\n",
    "import matplotlib as mpl\n",
    "from scipy.stats import gaussian_kde"
   ]
  },
  {
   "cell_type": "code",
   "execution_count": 2,
   "metadata": {
    "collapsed": true
   },
   "outputs": [],
   "source": [
    "#prefix \n",
    "prefix='HI22'\n",
    "\n",
    "#real photometry first\n",
    "real_file = \"%s.phot\" % prefix\n",
    "real_df = pd.read_csv(real_file, delim_whitespace=True, header=None) #create data frame \n",
    "real_df = real_df.iloc[:,:37] #select till relevant end of data frame (quality flag of I)\n",
    "\n",
    "#name columns\n",
    "columns=['extension','chip','x','y','chi','snr','sharp','round','maj_ax','crowd','type',\n",
    "           'cts_V','sky_v','nrm_ct_rt_V','nrm_ct_rt_err_V','inst_vega_V','mag_V','Verr','chi_V','snr_V',\n",
    "           'sharp_V','round_V','crowd_V','flag_V','cts_I','sky_I','nrm_ct_rt_I','nrm_ct_rt_err_I', \n",
    "           'inst_vega_I','mag_I','Ierr','chi_I','snr_I','sharp_I','round_I','crowd_I','flag_I']"
   ]
  },
  {
   "cell_type": "code",
   "execution_count": 3,
   "metadata": {
    "collapsed": true
   },
   "outputs": [],
   "source": [
    "#assign columns and preview\n",
    "real_df.columns=columns\n",
    "\n",
    "#fix y column if not on first chip \n",
    "real_df['y'] = real_df.apply(lambda x: x.y+2000 if x.extension>1 else x.y, axis=1)"
   ]
  },
  {
   "cell_type": "code",
   "execution_count": 4,
   "metadata": {},
   "outputs": [
    {
     "data": {
      "text/html": [
       "<div>\n",
       "<style>\n",
       "    .dataframe thead tr:only-child th {\n",
       "        text-align: right;\n",
       "    }\n",
       "\n",
       "    .dataframe thead th {\n",
       "        text-align: left;\n",
       "    }\n",
       "\n",
       "    .dataframe tbody tr th {\n",
       "        vertical-align: top;\n",
       "    }\n",
       "</style>\n",
       "<table border=\"1\" class=\"dataframe\">\n",
       "  <thead>\n",
       "    <tr style=\"text-align: right;\">\n",
       "      <th></th>\n",
       "      <th>extension</th>\n",
       "      <th>chip</th>\n",
       "      <th>x</th>\n",
       "      <th>y</th>\n",
       "      <th>chi</th>\n",
       "      <th>snr</th>\n",
       "      <th>sharp</th>\n",
       "      <th>round</th>\n",
       "      <th>maj_ax</th>\n",
       "      <th>crowd</th>\n",
       "      <th>...</th>\n",
       "      <th>nrm_ct_rt_err_I</th>\n",
       "      <th>inst_vega_I</th>\n",
       "      <th>mag_I</th>\n",
       "      <th>Ierr</th>\n",
       "      <th>chi_I</th>\n",
       "      <th>snr_I</th>\n",
       "      <th>sharp_I</th>\n",
       "      <th>round_I</th>\n",
       "      <th>crowd_I</th>\n",
       "      <th>flag_I</th>\n",
       "    </tr>\n",
       "  </thead>\n",
       "  <tbody>\n",
       "    <tr>\n",
       "      <th>92</th>\n",
       "      <td>1</td>\n",
       "      <td>1</td>\n",
       "      <td>4014.41</td>\n",
       "      <td>1389.62</td>\n",
       "      <td>1.81</td>\n",
       "      <td>208.6</td>\n",
       "      <td>-0.005</td>\n",
       "      <td>0.016</td>\n",
       "      <td>0</td>\n",
       "      <td>0.000</td>\n",
       "      <td>...</td>\n",
       "      <td>1.540000e-11</td>\n",
       "      <td>21.461</td>\n",
       "      <td>21.451</td>\n",
       "      <td>0.006</td>\n",
       "      <td>1.62</td>\n",
       "      <td>168.9</td>\n",
       "      <td>0.001</td>\n",
       "      <td>0.040</td>\n",
       "      <td>0.000</td>\n",
       "      <td>0</td>\n",
       "    </tr>\n",
       "    <tr>\n",
       "      <th>118</th>\n",
       "      <td>1</td>\n",
       "      <td>1</td>\n",
       "      <td>347.72</td>\n",
       "      <td>1782.93</td>\n",
       "      <td>2.16</td>\n",
       "      <td>178.6</td>\n",
       "      <td>0.010</td>\n",
       "      <td>0.017</td>\n",
       "      <td>50</td>\n",
       "      <td>0.005</td>\n",
       "      <td>...</td>\n",
       "      <td>1.320000e-11</td>\n",
       "      <td>22.005</td>\n",
       "      <td>21.997</td>\n",
       "      <td>0.009</td>\n",
       "      <td>2.11</td>\n",
       "      <td>119.0</td>\n",
       "      <td>0.005</td>\n",
       "      <td>0.019</td>\n",
       "      <td>0.007</td>\n",
       "      <td>0</td>\n",
       "    </tr>\n",
       "    <tr>\n",
       "      <th>129</th>\n",
       "      <td>1</td>\n",
       "      <td>1</td>\n",
       "      <td>334.71</td>\n",
       "      <td>1687.48</td>\n",
       "      <td>1.91</td>\n",
       "      <td>179.5</td>\n",
       "      <td>0.001</td>\n",
       "      <td>0.050</td>\n",
       "      <td>110</td>\n",
       "      <td>0.000</td>\n",
       "      <td>...</td>\n",
       "      <td>1.330000e-11</td>\n",
       "      <td>21.830</td>\n",
       "      <td>21.820</td>\n",
       "      <td>0.008</td>\n",
       "      <td>1.94</td>\n",
       "      <td>139.1</td>\n",
       "      <td>0.006</td>\n",
       "      <td>0.028</td>\n",
       "      <td>0.000</td>\n",
       "      <td>0</td>\n",
       "    </tr>\n",
       "    <tr>\n",
       "      <th>658</th>\n",
       "      <td>1</td>\n",
       "      <td>1</td>\n",
       "      <td>3686.35</td>\n",
       "      <td>153.78</td>\n",
       "      <td>2.00</td>\n",
       "      <td>89.4</td>\n",
       "      <td>-0.012</td>\n",
       "      <td>0.120</td>\n",
       "      <td>110</td>\n",
       "      <td>0.011</td>\n",
       "      <td>...</td>\n",
       "      <td>8.840000e-12</td>\n",
       "      <td>22.884</td>\n",
       "      <td>22.872</td>\n",
       "      <td>0.014</td>\n",
       "      <td>2.37</td>\n",
       "      <td>79.5</td>\n",
       "      <td>-0.021</td>\n",
       "      <td>0.045</td>\n",
       "      <td>0.005</td>\n",
       "      <td>0</td>\n",
       "    </tr>\n",
       "    <tr>\n",
       "      <th>912</th>\n",
       "      <td>1</td>\n",
       "      <td>1</td>\n",
       "      <td>3633.93</td>\n",
       "      <td>805.82</td>\n",
       "      <td>1.34</td>\n",
       "      <td>79.4</td>\n",
       "      <td>-0.006</td>\n",
       "      <td>0.023</td>\n",
       "      <td>160</td>\n",
       "      <td>0.001</td>\n",
       "      <td>...</td>\n",
       "      <td>7.590000e-12</td>\n",
       "      <td>23.361</td>\n",
       "      <td>23.352</td>\n",
       "      <td>0.018</td>\n",
       "      <td>1.28</td>\n",
       "      <td>59.7</td>\n",
       "      <td>-0.026</td>\n",
       "      <td>0.048</td>\n",
       "      <td>0.000</td>\n",
       "      <td>0</td>\n",
       "    </tr>\n",
       "  </tbody>\n",
       "</table>\n",
       "<p>5 rows × 37 columns</p>\n",
       "</div>"
      ],
      "text/plain": [
       "     extension  chip        x        y   chi    snr  sharp  round  maj_ax  \\\n",
       "92           1     1  4014.41  1389.62  1.81  208.6 -0.005  0.016       0   \n",
       "118          1     1   347.72  1782.93  2.16  178.6  0.010  0.017      50   \n",
       "129          1     1   334.71  1687.48  1.91  179.5  0.001  0.050     110   \n",
       "658          1     1  3686.35   153.78  2.00   89.4 -0.012  0.120     110   \n",
       "912          1     1  3633.93   805.82  1.34   79.4 -0.006  0.023     160   \n",
       "\n",
       "     crowd   ...    nrm_ct_rt_err_I  inst_vega_I   mag_I   Ierr  chi_I  snr_I  \\\n",
       "92   0.000   ...       1.540000e-11       21.461  21.451  0.006   1.62  168.9   \n",
       "118  0.005   ...       1.320000e-11       22.005  21.997  0.009   2.11  119.0   \n",
       "129  0.000   ...       1.330000e-11       21.830  21.820  0.008   1.94  139.1   \n",
       "658  0.011   ...       8.840000e-12       22.884  22.872  0.014   2.37   79.5   \n",
       "912  0.001   ...       7.590000e-12       23.361  23.352  0.018   1.28   59.7   \n",
       "\n",
       "     sharp_I  round_I  crowd_I  flag_I  \n",
       "92     0.001    0.040    0.000       0  \n",
       "118    0.005    0.019    0.007       0  \n",
       "129    0.006    0.028    0.000       0  \n",
       "658   -0.021    0.045    0.005       0  \n",
       "912   -0.026    0.048    0.000       0  \n",
       "\n",
       "[5 rows x 37 columns]"
      ]
     },
     "execution_count": 4,
     "metadata": {},
     "output_type": "execute_result"
    }
   ],
   "source": [
    "#establish cuts from below line\n",
    "#$5<=2.5 && $7*$7<=0.09 && $11<=2 && $20>=5 && $24==0 && $33>=5 && $37==0'' > ${TARG}.phot2\")\n",
    "\n",
    "real_cut = real_df[(real_df['chi'] < 2.5) & (real_df['sharp']*real_df['sharp'] <= 0.09) & (real_df['type'] <= 2) \n",
    "        & (real_df['snr_V'] >= 5) & (real_df['flag_V'] == 0) & (real_df['snr_I'] >= 5) \n",
    "        & (real_df['flag_I'] == 0)]\n",
    "\n",
    "real_cut[:5] #print for a quick look"
   ]
  },
  {
   "cell_type": "code",
   "execution_count": 5,
   "metadata": {
    "collapsed": true
   },
   "outputs": [],
   "source": [
    "#print out real_cut to space separated file\n",
    "real_cut_file = real_cut.to_csv('%s.phot2' % (prefix), sep=' ', header = True, index = False)"
   ]
  },
  {
   "cell_type": "code",
   "execution_count": 6,
   "metadata": {
    "collapsed": true
   },
   "outputs": [],
   "source": [
    "#fake photometry next\n",
    "fake_file='%s.phot.fake' % prefix #select file "
   ]
  },
  {
   "cell_type": "code",
   "execution_count": 7,
   "metadata": {
    "collapsed": true
   },
   "outputs": [],
   "source": [
    "fake_df = pd.read_csv(fake_file, delim_whitespace=True, header=None) #create data frame \n",
    "\n",
    "# calculate number of columns\n",
    "numberOfColumns = len(fake_df.columns)\n",
    "numberOfExtraColumns = numberOfColumns - 71\n",
    "numberOfImagesPerFilter = int(1+(numberOfExtraColumns/30))\n",
    "numberOfRelevantColumns = (numberOfImagesPerFilter-1)*4\n",
    "\n",
    "fake_df = fake_df.iloc[:,:(45+(numberOfRelevantColumns))] #select till relevant end of data frame (quality flag of I)"
   ]
  },
  {
   "cell_type": "code",
   "execution_count": 8,
   "metadata": {
    "collapsed": true
   },
   "outputs": [],
   "source": [
    "base_columns=['extensionIn','chipIn','xIn','yIn','counts_V1','mag_V1','counts_I1', 'mag_I1','extensionOut','chipOut','xOut','yOut',\n",
    "           'chi','snr','sharp','round','maj_ax','crowd','type','cts_V','sky_v','nrm_ct_rt_V','nrm_ct_rt_err_V',\n",
    "           'inst_vega_V','mag_V','Verr','chi_V','snr_V','sharp_V','round_V','crowd_V','flag_V','cts_I','sky_I',\n",
    "           'nrm_ct_rt_I','nrm_ct_rt_err_I', 'inst_vega_I','mag_I','Ierr','chi_I','snr_I','sharp_I','round_I',\n",
    "           'crowd_I','flag_I'] #base columns"
   ]
  },
  {
   "cell_type": "code",
   "execution_count": 9,
   "metadata": {},
   "outputs": [],
   "source": [
    "#loop to find correct number of additional photometry columns, and insert them\n",
    "j = 1\n",
    "k = 1\n",
    "l = 1\n",
    "\n",
    "while (j < numberOfImagesPerFilter):\n",
    "    m = str(j+1)\n",
    "    base_columns.insert(k+5,'counts_V%s' % m) \n",
    "    base_columns.insert(k+6,'mag_V%s' % m)    \n",
    "    base_columns.insert(l+9,'counts_I%s' % m) \n",
    "    base_columns.insert(l+10,'mag_I%s' % m)    \n",
    "    j += 1\n",
    "    k += 2\n",
    "    l += 4\n",
    "if j == numberOfImagesPerFilter:\n",
    "    fake_df.columns=base_columns \n",
    "    \n",
    "# fake_df.columns #print for a quick look"
   ]
  },
  {
   "cell_type": "code",
   "execution_count": 10,
   "metadata": {
    "scrolled": true
   },
   "outputs": [],
   "source": [
    "# correct Y position if the star is in the upper CCD\n",
    "fake_df['yIn'] = fake_df.apply(lambda x: x.yIn+2000 if x.extensionIn>1 else x.yIn, axis=1) \n",
    "# fake_df.iloc[:5,:16] #print some relevant columns to see if correct"
   ]
  },
  {
   "cell_type": "code",
   "execution_count": 11,
   "metadata": {
    "collapsed": true
   },
   "outputs": [],
   "source": [
    "#make some selection cuts\n",
    "fake_df['selected']=np.where(\n",
    "    (fake_df['chi'] < 2.5) & (fake_df['sharp']*fake_df['sharp'] <= 0.09) & (fake_df['type'] <= 2) \n",
    "    & (fake_df['snr_V'] >= 5) & (fake_df['flag_V'] == 0) & (fake_df['snr_I'] >= 5) \n",
    "    & (fake_df['flag_I'] == 0),True, False)\n",
    "\n",
    "# fake_df['selected'][:10] #print some relevant columns to see if correct"
   ]
  },
  {
   "cell_type": "code",
   "execution_count": 12,
   "metadata": {
    "scrolled": true
   },
   "outputs": [],
   "source": [
    "#automation depending on number of filters we have\n",
    "\n",
    "#initalize columns to store denominator for magnitude conversion\n",
    "fake_df['vSumCounts'] = 0\n",
    "fake_df['iSumCounts'] = 0\n",
    "\n",
    "#find the denominator (sum of counts)\n",
    "for i in range(numberOfImagesPerFilter):\n",
    "    vColumnName = 'counts_V%d' %(i+1)\n",
    "    iColumnName = 'counts_I%d' %(i+1)\n",
    "    fake_df['vSumCounts'] =  fake_df['vSumCounts'] + fake_df[vColumnName]\n",
    "    fake_df['iSumCounts'] =  fake_df['iSumCounts'] + fake_df[iColumnName]"
   ]
  },
  {
   "cell_type": "code",
   "execution_count": 13,
   "metadata": {
    "collapsed": true
   },
   "outputs": [],
   "source": [
    "#convert to magnitudes\n",
    "fake_df['dV'] = fake_df.apply(lambda x: np.round(-2.5*np.log10(x.cts_V/(x.vSumCounts)),3) \n",
    "                          if x.selected is True else 99.999, axis=1)\n",
    "fake_df['dI'] = fake_df.apply(lambda x: np.round(-2.5*np.log10(x.cts_I/(x.iSumCounts)),3) \n",
    "                          if x.selected is True else 99.999, axis=1)"
   ]
  },
  {
   "cell_type": "code",
   "execution_count": 14,
   "metadata": {
    "collapsed": true
   },
   "outputs": [],
   "source": [
    "# #compare to old technique to make sure (this is assuming 2 input files in each filter)\n",
    "# fake_df['dVOG'] = fake_df.apply(lambda x: np.round(-2.5*np.log10(x.cts_V/(x.counts_V1+x.counts_V2)),3) \n",
    "#                           if x.selected is True else 99.999, axis=1)\n",
    "# fake_df['dIOG'] = fake_df.apply(lambda x: np.round(-2.5*np.log10(x.cts_I/(x.counts_I1+x.counts_I2)),3) \n",
    "#                           if x.selected is True else 99.999, axis=1)\n",
    "\n",
    "# fake_df['dVdiffTest'] = fake_df['dV'] - fake_df['dVOG']\n",
    "# fake_df['dIdiffTest'] = fake_df['dI'] - fake_df['dIOG']"
   ]
  },
  {
   "cell_type": "code",
   "execution_count": 15,
   "metadata": {
    "scrolled": true
   },
   "outputs": [
    {
     "data": {
      "text/html": [
       "<div>\n",
       "<style>\n",
       "    .dataframe thead tr:only-child th {\n",
       "        text-align: right;\n",
       "    }\n",
       "\n",
       "    .dataframe thead th {\n",
       "        text-align: left;\n",
       "    }\n",
       "\n",
       "    .dataframe tbody tr th {\n",
       "        vertical-align: top;\n",
       "    }\n",
       "</style>\n",
       "<table border=\"1\" class=\"dataframe\">\n",
       "  <thead>\n",
       "    <tr style=\"text-align: right;\">\n",
       "      <th></th>\n",
       "      <th>extensionIn</th>\n",
       "      <th>chipIn</th>\n",
       "      <th>xIn</th>\n",
       "      <th>yIn</th>\n",
       "      <th>counts_V1</th>\n",
       "      <th>mag_V1</th>\n",
       "      <th>counts_V2</th>\n",
       "      <th>mag_V2</th>\n",
       "      <th>counts_I1</th>\n",
       "      <th>mag_I1</th>\n",
       "      <th>...</th>\n",
       "      <th>flag_I</th>\n",
       "      <th>selected</th>\n",
       "      <th>vSumCounts</th>\n",
       "      <th>iSumCounts</th>\n",
       "      <th>dV</th>\n",
       "      <th>dI</th>\n",
       "      <th>dVOG</th>\n",
       "      <th>dIOG</th>\n",
       "      <th>dVdiffTest</th>\n",
       "      <th>dIdiffTest</th>\n",
       "    </tr>\n",
       "  </thead>\n",
       "  <tbody>\n",
       "  </tbody>\n",
       "</table>\n",
       "<p>0 rows × 58 columns</p>\n",
       "</div>"
      ],
      "text/plain": [
       "Empty DataFrame\n",
       "Columns: [extensionIn, chipIn, xIn, yIn, counts_V1, mag_V1, counts_V2, mag_V2, counts_I1, mag_I1, counts_I2, mag_I2, extensionOut, chipOut, xOut, yOut, chi, snr, sharp, round, maj_ax, crowd, type, cts_V, sky_v, nrm_ct_rt_V, nrm_ct_rt_err_V, inst_vega_V, mag_V, Verr, chi_V, snr_V, sharp_V, round_V, crowd_V, flag_V, cts_I, sky_I, nrm_ct_rt_I, nrm_ct_rt_err_I, inst_vega_I, mag_I, Ierr, chi_I, snr_I, sharp_I, round_I, crowd_I, flag_I, selected, vSumCounts, iSumCounts, dV, dI, dVOG, dIOG, dVdiffTest, dIdiffTest]\n",
       "Index: []\n",
       "\n",
       "[0 rows x 58 columns]"
      ]
     },
     "execution_count": 15,
     "metadata": {},
     "output_type": "execute_result"
    }
   ],
   "source": [
    "# fake_df[fake_df['dVdiffTest'] != 0] #show any place there is a mismatch"
   ]
  },
  {
   "cell_type": "code",
   "execution_count": 16,
   "metadata": {},
   "outputs": [
    {
     "data": {
      "text/html": [
       "<div>\n",
       "<style>\n",
       "    .dataframe thead tr:only-child th {\n",
       "        text-align: right;\n",
       "    }\n",
       "\n",
       "    .dataframe thead th {\n",
       "        text-align: left;\n",
       "    }\n",
       "\n",
       "    .dataframe tbody tr th {\n",
       "        vertical-align: top;\n",
       "    }\n",
       "</style>\n",
       "<table border=\"1\" class=\"dataframe\">\n",
       "  <thead>\n",
       "    <tr style=\"text-align: right;\">\n",
       "      <th></th>\n",
       "      <th>extensionIn</th>\n",
       "      <th>chipIn</th>\n",
       "      <th>xIn</th>\n",
       "      <th>yIn</th>\n",
       "      <th>counts_V1</th>\n",
       "      <th>mag_V1</th>\n",
       "      <th>counts_V2</th>\n",
       "      <th>mag_V2</th>\n",
       "      <th>counts_I1</th>\n",
       "      <th>mag_I1</th>\n",
       "      <th>...</th>\n",
       "      <th>flag_I</th>\n",
       "      <th>selected</th>\n",
       "      <th>vSumCounts</th>\n",
       "      <th>iSumCounts</th>\n",
       "      <th>dV</th>\n",
       "      <th>dI</th>\n",
       "      <th>dVOG</th>\n",
       "      <th>dIOG</th>\n",
       "      <th>dVdiffTest</th>\n",
       "      <th>dIdiffTest</th>\n",
       "    </tr>\n",
       "  </thead>\n",
       "  <tbody>\n",
       "  </tbody>\n",
       "</table>\n",
       "<p>0 rows × 58 columns</p>\n",
       "</div>"
      ],
      "text/plain": [
       "Empty DataFrame\n",
       "Columns: [extensionIn, chipIn, xIn, yIn, counts_V1, mag_V1, counts_V2, mag_V2, counts_I1, mag_I1, counts_I2, mag_I2, extensionOut, chipOut, xOut, yOut, chi, snr, sharp, round, maj_ax, crowd, type, cts_V, sky_v, nrm_ct_rt_V, nrm_ct_rt_err_V, inst_vega_V, mag_V, Verr, chi_V, snr_V, sharp_V, round_V, crowd_V, flag_V, cts_I, sky_I, nrm_ct_rt_I, nrm_ct_rt_err_I, inst_vega_I, mag_I, Ierr, chi_I, snr_I, sharp_I, round_I, crowd_I, flag_I, selected, vSumCounts, iSumCounts, dV, dI, dVOG, dIOG, dVdiffTest, dIdiffTest]\n",
       "Index: []\n",
       "\n",
       "[0 rows x 58 columns]"
      ]
     },
     "execution_count": 16,
     "metadata": {},
     "output_type": "execute_result"
    }
   ],
   "source": [
    "# fake_df[fake_df['dIdiffTest'] != 0] #show any place there is a mismatch"
   ]
  },
  {
   "cell_type": "code",
   "execution_count": 17,
   "metadata": {
    "collapsed": true
   },
   "outputs": [],
   "source": [
    "#copy columns and create file\n",
    "fake2_df = fake_df[['mag_V1','mag_I1','inst_vega_V','inst_vega_I','dV','dI']].copy()\n",
    "fake2_df[:5] #print to have a quick look\n",
    "fake_cut_file = fake2_df.to_csv('%s.phot.fake2' % (prefix), sep=' ', header = True, index = False)"
   ]
  }
 ],
 "metadata": {
  "kernelspec": {
   "display_name": "Python 3",
   "language": "python",
   "name": "python3"
  },
  "language_info": {
   "codemirror_mode": {
    "name": "ipython",
    "version": 3
   },
   "file_extension": ".py",
   "mimetype": "text/x-python",
   "name": "python",
   "nbconvert_exporter": "python",
   "pygments_lexer": "ipython3",
   "version": "3.6.1"
  }
 },
 "nbformat": 4,
 "nbformat_minor": 2
}
