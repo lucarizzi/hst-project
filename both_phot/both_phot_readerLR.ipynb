{
 "cells": [
  {
   "cell_type": "code",
   "execution_count": 27,
   "metadata": {
    "collapsed": true
   },
   "outputs": [],
   "source": [
    "import csv\n",
    "import os,sys\n",
    "import pandas as pd\n",
    "import numpy as np\n",
    "import matplotlib.pyplot as plt\n",
    "import matplotlib as mpl\n",
    "from scipy.stats import gaussian_kde"
   ]
  },
  {
   "cell_type": "code",
   "execution_count": null,
   "metadata": {
    "collapsed": true
   },
   "outputs": [],
   "source": [
    "\n"
   ]
  },
  {
   "cell_type": "code",
   "execution_count": 28,
   "metadata": {
    "collapsed": true
   },
   "outputs": [],
   "source": [
    "#prefix \n",
    "prefix='NGC6946'\n",
    "\n",
    "# first magnitude\n",
    "mag1 = \"J\"\n",
    "# second magnitude\n",
    "mag2 = \"K\"\n",
    "# number of mag1 images:\n",
    "mag1number = 2\n",
    "# number of mag2 images:\n",
    "mag2number = 6\n",
    "\n",
    "# is this ACS?\n",
    "isAcs = False\n",
    "\n",
    "#real photometry first\n",
    "real_file = \"%s.phot\" % prefix\n",
    "real_df = pd.read_csv(real_file, delim_whitespace=True, header=None) #create data frame \n",
    "real_df = real_df.iloc[:,:37] #select till relevant end of data frame (quality flag of I)\n",
    "\n",
    "#name columns\n",
    "columns=['extension','chip','x','y','chi','snr','sharp','round','maj_ax','crowd','type',\n",
    "           'cts_mag1','sky_mag1','nrm_ct_rt_mag1','nrm_ct_rt_err_mag1','inst_vega_mag1','mag_mag1','mag1_err','chi_mag1','snr_mag1',\n",
    "           'sharp_mag1','round_mag1','crowd_mag1','flag_mag1','ctsmag2','skymag2','nrm_ct_rt_mag2','nrm_ct_rt_err_mag2', \n",
    "           'inst_vega_mag2','mag_mag2','mag2_err','chi_mag2','snr_mag2','shar_pmag2','round_mag2','crowd_mag2','flag_mag2']"
   ]
  },
  {
   "cell_type": "code",
   "execution_count": 29,
   "metadata": {
    "collapsed": true
   },
   "outputs": [],
   "source": [
    "#assign columns and preview\n",
    "real_df.columns=columns\n",
    "\n",
    "#fix y column if not on first chip \n",
    "if (isAcs):\n",
    "        real_df['y'] = real_df.apply(lambda x: x.y+2000 if x.extension>1 else x.y, axis=1)"
   ]
  },
  {
   "cell_type": "code",
   "execution_count": 30,
   "metadata": {},
   "outputs": [],
   "source": [
    "#establish cuts from below line\n",
    "#$5<=2.5 && $7*$7<=0.09 && $11<=2 && $20>=5 && $24==0 && $33>=5 && $37==0'' > ${TARG}.phot2\")\n",
    "\n",
    "real_cut = real_df[(real_df['chi'] < 2.5) & (real_df['sharp']*real_df['sharp'] <= 0.09) & (real_df['type'] <= 2) \n",
    "        & (real_df['snr_mag1'] >= 5) & (real_df['flag_mag1'] == 0) & (real_df['snr_mag2'] >= 5) \n",
    "        & (real_df['flag_mag2'] == 0)]\n",
    "\n"
   ]
  },
  {
   "cell_type": "code",
   "execution_count": 31,
   "metadata": {},
   "outputs": [
    {
     "data": {
      "text/html": [
       "<div>\n",
       "<style>\n",
       "    .dataframe thead tr:only-child th {\n",
       "        text-align: right;\n",
       "    }\n",
       "\n",
       "    .dataframe thead th {\n",
       "        text-align: left;\n",
       "    }\n",
       "\n",
       "    .dataframe tbody tr th {\n",
       "        vertical-align: top;\n",
       "    }\n",
       "</style>\n",
       "<table border=\"1\" class=\"dataframe\">\n",
       "  <thead>\n",
       "    <tr style=\"text-align: right;\">\n",
       "      <th></th>\n",
       "      <th>chip</th>\n",
       "      <th>x</th>\n",
       "      <th>y</th>\n",
       "      <th>chi</th>\n",
       "      <th>snr</th>\n",
       "      <th>sharp</th>\n",
       "      <th>round</th>\n",
       "      <th>maj_ax</th>\n",
       "      <th>crowd</th>\n",
       "      <th>type</th>\n",
       "    </tr>\n",
       "  </thead>\n",
       "  <tbody>\n",
       "    <tr>\n",
       "      <th>5</th>\n",
       "      <td>1</td>\n",
       "      <td>140.87</td>\n",
       "      <td>789.13</td>\n",
       "      <td>1.44</td>\n",
       "      <td>11112.4</td>\n",
       "      <td>0.003</td>\n",
       "      <td>0.025</td>\n",
       "      <td>100</td>\n",
       "      <td>0.001</td>\n",
       "      <td>1</td>\n",
       "    </tr>\n",
       "    <tr>\n",
       "      <th>6</th>\n",
       "      <td>1</td>\n",
       "      <td>415.23</td>\n",
       "      <td>377.82</td>\n",
       "      <td>1.05</td>\n",
       "      <td>10735.4</td>\n",
       "      <td>0.003</td>\n",
       "      <td>0.009</td>\n",
       "      <td>155</td>\n",
       "      <td>0.000</td>\n",
       "      <td>1</td>\n",
       "    </tr>\n",
       "    <tr>\n",
       "      <th>7</th>\n",
       "      <td>1</td>\n",
       "      <td>850.94</td>\n",
       "      <td>675.01</td>\n",
       "      <td>1.09</td>\n",
       "      <td>10303.3</td>\n",
       "      <td>-0.001</td>\n",
       "      <td>0.022</td>\n",
       "      <td>170</td>\n",
       "      <td>0.002</td>\n",
       "      <td>1</td>\n",
       "    </tr>\n",
       "    <tr>\n",
       "      <th>9</th>\n",
       "      <td>1</td>\n",
       "      <td>803.85</td>\n",
       "      <td>631.93</td>\n",
       "      <td>1.07</td>\n",
       "      <td>7012.7</td>\n",
       "      <td>0.012</td>\n",
       "      <td>0.010</td>\n",
       "      <td>25</td>\n",
       "      <td>0.000</td>\n",
       "      <td>1</td>\n",
       "    </tr>\n",
       "    <tr>\n",
       "      <th>11</th>\n",
       "      <td>1</td>\n",
       "      <td>124.91</td>\n",
       "      <td>687.23</td>\n",
       "      <td>1.43</td>\n",
       "      <td>5852.1</td>\n",
       "      <td>0.008</td>\n",
       "      <td>0.027</td>\n",
       "      <td>90</td>\n",
       "      <td>0.001</td>\n",
       "      <td>1</td>\n",
       "    </tr>\n",
       "  </tbody>\n",
       "</table>\n",
       "</div>"
      ],
      "text/plain": [
       "    chip       x       y   chi      snr  sharp  round  maj_ax  crowd  type\n",
       "5      1  140.87  789.13  1.44  11112.4  0.003  0.025     100  0.001     1\n",
       "6      1  415.23  377.82  1.05  10735.4  0.003  0.009     155  0.000     1\n",
       "7      1  850.94  675.01  1.09  10303.3 -0.001  0.022     170  0.002     1\n",
       "9      1  803.85  631.93  1.07   7012.7  0.012  0.010      25  0.000     1\n",
       "11     1  124.91  687.23  1.43   5852.1  0.008  0.027      90  0.001     1"
      ]
     },
     "execution_count": 31,
     "metadata": {},
     "output_type": "execute_result"
    }
   ],
   "source": [
    "real_cut[real_cut.columns[1:11]][:5]"
   ]
  },
  {
   "cell_type": "code",
   "execution_count": 32,
   "metadata": {},
   "outputs": [
    {
     "data": {
      "text/html": [
       "<div>\n",
       "<style>\n",
       "    .dataframe thead tr:only-child th {\n",
       "        text-align: right;\n",
       "    }\n",
       "\n",
       "    .dataframe thead th {\n",
       "        text-align: left;\n",
       "    }\n",
       "\n",
       "    .dataframe tbody tr th {\n",
       "        vertical-align: top;\n",
       "    }\n",
       "</style>\n",
       "<table border=\"1\" class=\"dataframe\">\n",
       "  <thead>\n",
       "    <tr style=\"text-align: right;\">\n",
       "      <th></th>\n",
       "      <th>cts_mag1</th>\n",
       "      <th>sky_mag1</th>\n",
       "      <th>nrm_ct_rt_mag1</th>\n",
       "      <th>nrm_ct_rt_err_mag1</th>\n",
       "      <th>inst_vega_mag1</th>\n",
       "      <th>mag_mag1</th>\n",
       "      <th>mag1_err</th>\n",
       "      <th>chi_mag1</th>\n",
       "      <th>snr_mag1</th>\n",
       "      <th>sharp_mag1</th>\n",
       "      <th>round_mag1</th>\n",
       "      <th>crowd_mag1</th>\n",
       "      <th>flag_mag1</th>\n",
       "    </tr>\n",
       "  </thead>\n",
       "  <tbody>\n",
       "    <tr>\n",
       "      <th>5</th>\n",
       "      <td>74900000.0</td>\n",
       "      <td>8535.76</td>\n",
       "      <td>1.870000e-06</td>\n",
       "      <td>2.390000e-10</td>\n",
       "      <td>14.322</td>\n",
       "      <td>99.999</td>\n",
       "      <td>0.0</td>\n",
       "      <td>1.72</td>\n",
       "      <td>7805.7</td>\n",
       "      <td>0.021</td>\n",
       "      <td>0.060</td>\n",
       "      <td>0.000</td>\n",
       "      <td>0</td>\n",
       "    </tr>\n",
       "    <tr>\n",
       "      <th>6</th>\n",
       "      <td>69000000.0</td>\n",
       "      <td>8663.01</td>\n",
       "      <td>1.720000e-06</td>\n",
       "      <td>2.280000e-10</td>\n",
       "      <td>14.412</td>\n",
       "      <td>99.999</td>\n",
       "      <td>0.0</td>\n",
       "      <td>1.42</td>\n",
       "      <td>7526.3</td>\n",
       "      <td>0.001</td>\n",
       "      <td>0.019</td>\n",
       "      <td>0.000</td>\n",
       "      <td>0</td>\n",
       "    </tr>\n",
       "    <tr>\n",
       "      <th>7</th>\n",
       "      <td>62200000.0</td>\n",
       "      <td>20005.44</td>\n",
       "      <td>1.550000e-06</td>\n",
       "      <td>2.170000e-10</td>\n",
       "      <td>14.525</td>\n",
       "      <td>99.999</td>\n",
       "      <td>0.0</td>\n",
       "      <td>1.47</td>\n",
       "      <td>7146.3</td>\n",
       "      <td>0.019</td>\n",
       "      <td>0.048</td>\n",
       "      <td>0.001</td>\n",
       "      <td>0</td>\n",
       "    </tr>\n",
       "    <tr>\n",
       "      <th>9</th>\n",
       "      <td>26900000.0</td>\n",
       "      <td>11245.76</td>\n",
       "      <td>6.710000e-07</td>\n",
       "      <td>1.430000e-10</td>\n",
       "      <td>15.433</td>\n",
       "      <td>99.999</td>\n",
       "      <td>0.0</td>\n",
       "      <td>1.41</td>\n",
       "      <td>4694.2</td>\n",
       "      <td>-0.001</td>\n",
       "      <td>0.032</td>\n",
       "      <td>0.000</td>\n",
       "      <td>0</td>\n",
       "    </tr>\n",
       "    <tr>\n",
       "      <th>11</th>\n",
       "      <td>21100000.0</td>\n",
       "      <td>5727.11</td>\n",
       "      <td>5.250000e-07</td>\n",
       "      <td>1.260000e-10</td>\n",
       "      <td>15.700</td>\n",
       "      <td>99.999</td>\n",
       "      <td>0.0</td>\n",
       "      <td>1.55</td>\n",
       "      <td>4149.8</td>\n",
       "      <td>-0.001</td>\n",
       "      <td>0.046</td>\n",
       "      <td>0.000</td>\n",
       "      <td>0</td>\n",
       "    </tr>\n",
       "  </tbody>\n",
       "</table>\n",
       "</div>"
      ],
      "text/plain": [
       "      cts_mag1  sky_mag1  nrm_ct_rt_mag1  nrm_ct_rt_err_mag1  inst_vega_mag1  \\\n",
       "5   74900000.0   8535.76    1.870000e-06        2.390000e-10          14.322   \n",
       "6   69000000.0   8663.01    1.720000e-06        2.280000e-10          14.412   \n",
       "7   62200000.0  20005.44    1.550000e-06        2.170000e-10          14.525   \n",
       "9   26900000.0  11245.76    6.710000e-07        1.430000e-10          15.433   \n",
       "11  21100000.0   5727.11    5.250000e-07        1.260000e-10          15.700   \n",
       "\n",
       "    mag_mag1  mag1_err  chi_mag1  snr_mag1  sharp_mag1  round_mag1  \\\n",
       "5     99.999       0.0      1.72    7805.7       0.021       0.060   \n",
       "6     99.999       0.0      1.42    7526.3       0.001       0.019   \n",
       "7     99.999       0.0      1.47    7146.3       0.019       0.048   \n",
       "9     99.999       0.0      1.41    4694.2      -0.001       0.032   \n",
       "11    99.999       0.0      1.55    4149.8      -0.001       0.046   \n",
       "\n",
       "    crowd_mag1  flag_mag1  \n",
       "5        0.000          0  \n",
       "6        0.000          0  \n",
       "7        0.001          0  \n",
       "9        0.000          0  \n",
       "11       0.000          0  "
      ]
     },
     "execution_count": 32,
     "metadata": {},
     "output_type": "execute_result"
    }
   ],
   "source": [
    "real_cut[real_cut.columns[11:24]][:5]"
   ]
  },
  {
   "cell_type": "code",
   "execution_count": 33,
   "metadata": {},
   "outputs": [
    {
     "data": {
      "text/html": [
       "<div>\n",
       "<style>\n",
       "    .dataframe thead tr:only-child th {\n",
       "        text-align: right;\n",
       "    }\n",
       "\n",
       "    .dataframe thead th {\n",
       "        text-align: left;\n",
       "    }\n",
       "\n",
       "    .dataframe tbody tr th {\n",
       "        vertical-align: top;\n",
       "    }\n",
       "</style>\n",
       "<table border=\"1\" class=\"dataframe\">\n",
       "  <thead>\n",
       "    <tr style=\"text-align: right;\">\n",
       "      <th></th>\n",
       "      <th>ctsmag2</th>\n",
       "      <th>skymag2</th>\n",
       "      <th>nrm_ct_rt_mag2</th>\n",
       "      <th>nrm_ct_rt_err_mag2</th>\n",
       "      <th>inst_vega_mag2</th>\n",
       "      <th>mag_mag2</th>\n",
       "      <th>mag2_err</th>\n",
       "      <th>chi_mag2</th>\n",
       "      <th>snr_mag2</th>\n",
       "      <th>shar_pmag2</th>\n",
       "      <th>round_mag2</th>\n",
       "      <th>crowd_mag2</th>\n",
       "      <th>flag_mag2</th>\n",
       "    </tr>\n",
       "  </thead>\n",
       "  <tbody>\n",
       "    <tr>\n",
       "      <th>5</th>\n",
       "      <td>82000000.0</td>\n",
       "      <td>13511.32</td>\n",
       "      <td>2.720000e-06</td>\n",
       "      <td>3.440000e-10</td>\n",
       "      <td>13.912</td>\n",
       "      <td>99.999</td>\n",
       "      <td>0.0</td>\n",
       "      <td>1.33</td>\n",
       "      <td>7908.8</td>\n",
       "      <td>-0.004</td>\n",
       "      <td>0.012</td>\n",
       "      <td>0.001</td>\n",
       "      <td>0</td>\n",
       "    </tr>\n",
       "    <tr>\n",
       "      <th>6</th>\n",
       "      <td>76600000.0</td>\n",
       "      <td>12536.77</td>\n",
       "      <td>2.540000e-06</td>\n",
       "      <td>3.320000e-10</td>\n",
       "      <td>13.986</td>\n",
       "      <td>99.999</td>\n",
       "      <td>0.0</td>\n",
       "      <td>0.90</td>\n",
       "      <td>7654.8</td>\n",
       "      <td>0.004</td>\n",
       "      <td>0.005</td>\n",
       "      <td>0.000</td>\n",
       "      <td>0</td>\n",
       "    </tr>\n",
       "    <tr>\n",
       "      <th>7</th>\n",
       "      <td>72200000.0</td>\n",
       "      <td>30190.16</td>\n",
       "      <td>2.400000e-06</td>\n",
       "      <td>3.230000e-10</td>\n",
       "      <td>14.049</td>\n",
       "      <td>99.999</td>\n",
       "      <td>0.0</td>\n",
       "      <td>0.94</td>\n",
       "      <td>7418.9</td>\n",
       "      <td>-0.009</td>\n",
       "      <td>0.012</td>\n",
       "      <td>0.003</td>\n",
       "      <td>0</td>\n",
       "    </tr>\n",
       "    <tr>\n",
       "      <th>9</th>\n",
       "      <td>35800000.0</td>\n",
       "      <td>16070.76</td>\n",
       "      <td>1.190000e-06</td>\n",
       "      <td>2.290000e-10</td>\n",
       "      <td>14.811</td>\n",
       "      <td>99.999</td>\n",
       "      <td>0.0</td>\n",
       "      <td>0.93</td>\n",
       "      <td>5209.2</td>\n",
       "      <td>0.017</td>\n",
       "      <td>0.003</td>\n",
       "      <td>0.000</td>\n",
       "      <td>0</td>\n",
       "    </tr>\n",
       "    <tr>\n",
       "      <th>11</th>\n",
       "      <td>22500000.0</td>\n",
       "      <td>8507.76</td>\n",
       "      <td>7.480000e-07</td>\n",
       "      <td>1.810000e-10</td>\n",
       "      <td>15.315</td>\n",
       "      <td>99.999</td>\n",
       "      <td>0.0</td>\n",
       "      <td>1.39</td>\n",
       "      <td>4126.1</td>\n",
       "      <td>0.012</td>\n",
       "      <td>0.021</td>\n",
       "      <td>0.001</td>\n",
       "      <td>0</td>\n",
       "    </tr>\n",
       "  </tbody>\n",
       "</table>\n",
       "</div>"
      ],
      "text/plain": [
       "       ctsmag2   skymag2  nrm_ct_rt_mag2  nrm_ct_rt_err_mag2  inst_vega_mag2  \\\n",
       "5   82000000.0  13511.32    2.720000e-06        3.440000e-10          13.912   \n",
       "6   76600000.0  12536.77    2.540000e-06        3.320000e-10          13.986   \n",
       "7   72200000.0  30190.16    2.400000e-06        3.230000e-10          14.049   \n",
       "9   35800000.0  16070.76    1.190000e-06        2.290000e-10          14.811   \n",
       "11  22500000.0   8507.76    7.480000e-07        1.810000e-10          15.315   \n",
       "\n",
       "    mag_mag2  mag2_err  chi_mag2  snr_mag2  shar_pmag2  round_mag2  \\\n",
       "5     99.999       0.0      1.33    7908.8      -0.004       0.012   \n",
       "6     99.999       0.0      0.90    7654.8       0.004       0.005   \n",
       "7     99.999       0.0      0.94    7418.9      -0.009       0.012   \n",
       "9     99.999       0.0      0.93    5209.2       0.017       0.003   \n",
       "11    99.999       0.0      1.39    4126.1       0.012       0.021   \n",
       "\n",
       "    crowd_mag2  flag_mag2  \n",
       "5        0.001          0  \n",
       "6        0.000          0  \n",
       "7        0.003          0  \n",
       "9        0.000          0  \n",
       "11       0.001          0  "
      ]
     },
     "execution_count": 33,
     "metadata": {},
     "output_type": "execute_result"
    }
   ],
   "source": [
    "real_cut[real_cut.columns[24:37]][:5]"
   ]
  },
  {
   "cell_type": "code",
   "execution_count": 34,
   "metadata": {
    "collapsed": true
   },
   "outputs": [],
   "source": [
    "#print out real_cut to space separated file\n",
    "real_cut_file = real_cut.to_csv('%s.phot2' % (prefix), sep=' ', header = True, index = False)"
   ]
  },
  {
   "cell_type": "code",
   "execution_count": 35,
   "metadata": {
    "collapsed": true
   },
   "outputs": [],
   "source": [
    "#fake photometry next\n",
    "fake_file='%s.phot.fake' % prefix #select file "
   ]
  },
  {
   "cell_type": "code",
   "execution_count": 44,
   "metadata": {
    "collapsed": true
   },
   "outputs": [],
   "source": [
    "fake_df = pd.read_csv(fake_file, delim_whitespace=True, header=None) #create data frame \n",
    "\n",
    "## calculate number of columns\n",
    "#numberOfColumns = len(fake_df.columns)\n",
    "#numberOfExtraColumns = numberOfColumns - 71\n",
    "#numberOfImagesPerFilter = int(1+(numberOfExtraColumns/30))\n",
    "#numberOfRelevantColumns = (numberOfImagesPerFilter-1)*4\n",
    "\n",
    "#fake_df = fake_df.iloc[:,:(45+(numberOfRelevantColumns))] #select till relevant end of data frame (quality flag of I)"
   ]
  },
  {
   "cell_type": "code",
   "execution_count": 49,
   "metadata": {
    "collapsed": true
   },
   "outputs": [],
   "source": [
    "base_columns=['extensionIn','chipIn','xIn','yIn']\n",
    "#'counts_V1','mag_V1','counts_I1', 'mag_I1','extensionOut','chipOut','xOut','yOut',\n",
    "#           'chi','snr','sharp','round','maj_ax','crowd','type','cts_V','sky_v','nrm_ct_rt_V','nrm_ct_rt_err_V',\n",
    "#           'inst_vega_V','mag_V','Verr','chi_V','snr_V','sharp_V','round_V','crowd_V','flag_V','cts_I','sky_I',\n",
    "#           'nrm_ct_rt_I','nrm_ct_rt_err_I', 'inst_vega_I','mag_I','Ierr','chi_I','snr_I','sharp_I','round_I',\n",
    "#           'crowd_I','flag_I'] #base columns"
   ]
  },
  {
   "cell_type": "code",
   "execution_count": 58,
   "metadata": {},
   "outputs": [
    {
     "name": "stdout",
     "output_type": "stream",
     "text": [
      "['extensionIn', 'chipIn', 'xIn', 'yIn', 'counts_mag1_0', 'mag_mag1_0', 'counts_mag1_1', 'mag_mag1_1', 'counts_mag2_0', 'mag_mag2_0', 'counts_mag2_1', 'mag_mag2_1', 'counts_mag2_2', 'mag_mag2_2', 'counts_mag2_3', 'mag_mag2_3', 'counts_mag2_4', 'mag_mag2_4', 'counts_mag2_5', 'mag_mag2_5', 'extensionOut', 'chipOut', 'xOut', 'yOut', 'chimagOut', 'snrmagOut', 'sharpmagOut', 'roundmagOut', 'maj_axmagOut', 'crowdmagOut', 'typemagOut', 'countsmag1Out', 'snrmag1Out', 'sharpmag1Out', 'roundmag1Out', 'maj_axmag1Out', 'crowdmag1Out', 'typemag1Out', 'countsmag2Out', 'snrmag2Out', 'sharpmag2Out', 'roundmag2Out', 'maj_axmag2Out', 'crowdmag2Out', 'typemag2Out', 'cts_mag2_0', 'sky_mag2_0', 'nrm_ct_rt_mag2_0', 'nrm_ct_rt_err_mag2_0', 'inst_vega_mag2_0', 'mag_mag2_0', 'mag2_err_0', 'chi_mag2_0', 'snr_mag2_0', 'sharp_mag2_0', 'round_mag2_0', 'crowd_mag2_0', 'flag_mag2_0', 'cts_mag2_1', 'sky_mag2_1', 'nrm_ct_rt_mag2_1', 'nrm_ct_rt_err_mag2_1', 'inst_vega_mag2_1', 'mag_mag2_1', 'mag2_err_1', 'chi_mag2_1', 'snr_mag2_1', 'sharp_mag2_1', 'round_mag2_1', 'crowd_mag2_1', 'flag_mag2_1', 'cts_mag2_2', 'sky_mag2_2', 'nrm_ct_rt_mag2_2', 'nrm_ct_rt_err_mag2_2', 'inst_vega_mag2_2', 'mag_mag2_2', 'mag2_err_2', 'chi_mag2_2', 'snr_mag2_2', 'sharp_mag2_2', 'round_mag2_2', 'crowd_mag2_2', 'flag_mag2_2', 'cts_mag2_3', 'sky_mag2_3', 'nrm_ct_rt_mag2_3', 'nrm_ct_rt_err_mag2_3', 'inst_vega_mag2_3', 'mag_mag2_3', 'mag2_err_3', 'chi_mag2_3', 'snr_mag2_3', 'sharp_mag2_3', 'round_mag2_3', 'crowd_mag2_3', 'flag_mag2_3', 'cts_mag2_4', 'sky_mag2_4', 'nrm_ct_rt_mag2_4', 'nrm_ct_rt_err_mag2_4', 'inst_vega_mag2_4', 'mag_mag2_4', 'mag2_err_4', 'chi_mag2_4', 'snr_mag2_4', 'sharp_mag2_4', 'round_mag2_4', 'crowd_mag2_4', 'flag_mag2_4', 'cts_mag2_5', 'sky_mag2_5', 'nrm_ct_rt_mag2_5', 'nrm_ct_rt_err_mag2_5', 'inst_vega_mag2_5', 'mag_mag2_5', 'mag2_err_5', 'chi_mag2_5', 'snr_mag2_5', 'sharp_mag2_5', 'round_mag2_5', 'crowd_mag2_5', 'flag_mag2_5', 'cts_mag2_0', 'sky_mag2_0', 'nrm_ct_rt_mag2_0', 'nrm_ct_rt_err_mag2_0', 'inst_vega_mag2_0', 'mag_mag2_0', 'mag2_err_0', 'chi_mag2_0', 'snr_mag2_0', 'sharp_mag2_0', 'round_mag2_0', 'crowd_mag2_0', 'flag_mag2_0', 'cts_mag2_1', 'sky_mag2_1', 'nrm_ct_rt_mag2_1', 'nrm_ct_rt_err_mag2_1', 'inst_vega_mag2_1', 'mag_mag2_1', 'mag2_err_1', 'chi_mag2_1', 'snr_mag2_1', 'sharp_mag2_1', 'round_mag2_1', 'crowd_mag2_1', 'flag_mag2_1', 'cts_mag2_2', 'sky_mag2_2', 'nrm_ct_rt_mag2_2', 'nrm_ct_rt_err_mag2_2', 'inst_vega_mag2_2', 'mag_mag2_2', 'mag2_err_2', 'chi_mag2_2', 'snr_mag2_2', 'sharp_mag2_2', 'round_mag2_2', 'crowd_mag2_2', 'flag_mag2_2', 'cts_mag2_3', 'sky_mag2_3', 'nrm_ct_rt_mag2_3', 'nrm_ct_rt_err_mag2_3', 'inst_vega_mag2_3', 'mag_mag2_3', 'mag2_err_3', 'chi_mag2_3', 'snr_mag2_3', 'sharp_mag2_3', 'round_mag2_3', 'crowd_mag2_3', 'flag_mag2_3', 'cts_mag2_4', 'sky_mag2_4', 'nrm_ct_rt_mag2_4', 'nrm_ct_rt_err_mag2_4', 'inst_vega_mag2_4', 'mag_mag2_4', 'mag2_err_4', 'chi_mag2_4', 'snr_mag2_4', 'sharp_mag2_4', 'round_mag2_4', 'crowd_mag2_4', 'flag_mag2_4', 'cts_mag2_5', 'sky_mag2_5', 'nrm_ct_rt_mag2_5', 'nrm_ct_rt_err_mag2_5', 'inst_vega_mag2_5', 'mag_mag2_5', 'mag2_err_5', 'chi_mag2_5', 'snr_mag2_5', 'sharp_mag2_5', 'round_mag2_5', 'crowd_mag2_5', 'flag_mag2_5']\n"
     ]
    },
    {
     "ename": "ValueError",
     "evalue": "Length mismatch: Expected axis has 161 elements, new values have 201 elements",
     "output_type": "error",
     "traceback": [
      "\u001b[0;31m---------------------------------------------------------------------------\u001b[0m",
      "\u001b[0;31mValueError\u001b[0m                                Traceback (most recent call last)",
      "\u001b[0;32m<ipython-input-58-3f935806ca64>\u001b[0m in \u001b[0;36m<module>\u001b[0;34m()\u001b[0m\n\u001b[1;32m     53\u001b[0m \u001b[0mprint\u001b[0m\u001b[0;34m(\u001b[0m\u001b[0mbase_columns\u001b[0m\u001b[0;34m)\u001b[0m\u001b[0;34m\u001b[0m\u001b[0m\n\u001b[1;32m     54\u001b[0m \u001b[0;34m\u001b[0m\u001b[0m\n\u001b[0;32m---> 55\u001b[0;31m \u001b[0mfake_df\u001b[0m\u001b[0;34m.\u001b[0m\u001b[0mcolumns\u001b[0m\u001b[0;34m=\u001b[0m\u001b[0mbase_columns\u001b[0m\u001b[0;34m\u001b[0m\u001b[0m\n\u001b[0m",
      "\u001b[0;32m~/anaconda3/lib/python3.6/site-packages/pandas/core/generic.py\u001b[0m in \u001b[0;36m__setattr__\u001b[0;34m(self, name, value)\u001b[0m\n\u001b[1;32m   3092\u001b[0m         \u001b[0;32mtry\u001b[0m\u001b[0;34m:\u001b[0m\u001b[0;34m\u001b[0m\u001b[0m\n\u001b[1;32m   3093\u001b[0m             \u001b[0mobject\u001b[0m\u001b[0;34m.\u001b[0m\u001b[0m__getattribute__\u001b[0m\u001b[0;34m(\u001b[0m\u001b[0mself\u001b[0m\u001b[0;34m,\u001b[0m \u001b[0mname\u001b[0m\u001b[0;34m)\u001b[0m\u001b[0;34m\u001b[0m\u001b[0m\n\u001b[0;32m-> 3094\u001b[0;31m             \u001b[0;32mreturn\u001b[0m \u001b[0mobject\u001b[0m\u001b[0;34m.\u001b[0m\u001b[0m__setattr__\u001b[0m\u001b[0;34m(\u001b[0m\u001b[0mself\u001b[0m\u001b[0;34m,\u001b[0m \u001b[0mname\u001b[0m\u001b[0;34m,\u001b[0m \u001b[0mvalue\u001b[0m\u001b[0;34m)\u001b[0m\u001b[0;34m\u001b[0m\u001b[0m\n\u001b[0m\u001b[1;32m   3095\u001b[0m         \u001b[0;32mexcept\u001b[0m \u001b[0mAttributeError\u001b[0m\u001b[0;34m:\u001b[0m\u001b[0;34m\u001b[0m\u001b[0m\n\u001b[1;32m   3096\u001b[0m             \u001b[0;32mpass\u001b[0m\u001b[0;34m\u001b[0m\u001b[0m\n",
      "\u001b[0;32mpandas/_libs/src/properties.pyx\u001b[0m in \u001b[0;36mpandas._libs.lib.AxisProperty.__set__\u001b[0;34m()\u001b[0m\n",
      "\u001b[0;32m~/anaconda3/lib/python3.6/site-packages/pandas/core/generic.py\u001b[0m in \u001b[0;36m_set_axis\u001b[0;34m(self, axis, labels)\u001b[0m\n\u001b[1;32m    471\u001b[0m \u001b[0;34m\u001b[0m\u001b[0m\n\u001b[1;32m    472\u001b[0m     \u001b[0;32mdef\u001b[0m \u001b[0m_set_axis\u001b[0m\u001b[0;34m(\u001b[0m\u001b[0mself\u001b[0m\u001b[0;34m,\u001b[0m \u001b[0maxis\u001b[0m\u001b[0;34m,\u001b[0m \u001b[0mlabels\u001b[0m\u001b[0;34m)\u001b[0m\u001b[0;34m:\u001b[0m\u001b[0;34m\u001b[0m\u001b[0m\n\u001b[0;32m--> 473\u001b[0;31m         \u001b[0mself\u001b[0m\u001b[0;34m.\u001b[0m\u001b[0m_data\u001b[0m\u001b[0;34m.\u001b[0m\u001b[0mset_axis\u001b[0m\u001b[0;34m(\u001b[0m\u001b[0maxis\u001b[0m\u001b[0;34m,\u001b[0m \u001b[0mlabels\u001b[0m\u001b[0;34m)\u001b[0m\u001b[0;34m\u001b[0m\u001b[0m\n\u001b[0m\u001b[1;32m    474\u001b[0m         \u001b[0mself\u001b[0m\u001b[0;34m.\u001b[0m\u001b[0m_clear_item_cache\u001b[0m\u001b[0;34m(\u001b[0m\u001b[0;34m)\u001b[0m\u001b[0;34m\u001b[0m\u001b[0m\n\u001b[1;32m    475\u001b[0m \u001b[0;34m\u001b[0m\u001b[0m\n",
      "\u001b[0;32m~/anaconda3/lib/python3.6/site-packages/pandas/core/internals.py\u001b[0m in \u001b[0;36mset_axis\u001b[0;34m(self, axis, new_labels)\u001b[0m\n\u001b[1;32m   2834\u001b[0m             raise ValueError('Length mismatch: Expected axis has %d elements, '\n\u001b[1;32m   2835\u001b[0m                              \u001b[0;34m'new values have %d elements'\u001b[0m \u001b[0;34m%\u001b[0m\u001b[0;34m\u001b[0m\u001b[0m\n\u001b[0;32m-> 2836\u001b[0;31m                              (old_len, new_len))\n\u001b[0m\u001b[1;32m   2837\u001b[0m \u001b[0;34m\u001b[0m\u001b[0m\n\u001b[1;32m   2838\u001b[0m         \u001b[0mself\u001b[0m\u001b[0;34m.\u001b[0m\u001b[0maxes\u001b[0m\u001b[0;34m[\u001b[0m\u001b[0maxis\u001b[0m\u001b[0;34m]\u001b[0m \u001b[0;34m=\u001b[0m \u001b[0mnew_labels\u001b[0m\u001b[0;34m\u001b[0m\u001b[0m\n",
      "\u001b[0;31mValueError\u001b[0m: Length mismatch: Expected axis has 161 elements, new values have 201 elements"
     ]
    }
   ],
   "source": [
    "#loop to find correct number of additional photometry columns, and insert them\n",
    "base_columns=['extensionIn','chipIn','xIn','yIn']\n",
    "# add input mag1 columns\n",
    "\n",
    "for counter in range(0,mag1number):\n",
    "    base_columns = base_columns + [('counts_mag1_%d' % counter),('mag_mag1_%d' % counter)]\n",
    "    \n",
    "# add input mag1 columns\n",
    "\n",
    "for counter in range(0,mag2number):\n",
    "    base_columns = base_columns + [('counts_mag2_%d' % counter),('mag_mag2_%d' % counter)]\n",
    "    \n",
    "# add new set of input geometry data\n",
    "\n",
    "base_columns = base_columns + ['extensionOut','chipOut','xOut','yOut']\n",
    "base_columns = base_columns + ['chimagOut','snrmagOut','sharpmagOut','roundmagOut','maj_axmagOut','crowdmagOut','typemagOut']\n",
    "base_columns = base_columns + ['countsmag1Out','skymag1Out','nrmctmag1Out','nrmcterrmag1Out','instvegamagmag1Out','magmag1Out','mag1errOut','snrmag1Out','sharpmag1Out','roundmag1Out','maj_axmag1Out','crowdmag1Out','typemag1Out']\n",
    "base_columns = base_columns + ['countsmag2Out','skymag2Out','nrmctmag2Out','nrmcterrmag2Out','instvegamagmag2Out','magmag2Out','mag2errOut','snrmag2Out','sharpmag2Out','roundmag2Out','maj_axmag2Out','crowdmag2Out','typemag2Out']\n",
    "\n",
    "# add output mag1 columns\n",
    "\n",
    "for counter in range(0,mag1number):\n",
    "    base_columns = base_columns + [('cts_mag1_%d' % counter)]\n",
    "    base_columns = base_columns + [('sky_mag1_%d' % counter)]\n",
    "    base_columns = base_columns + [('nrm_ct_rt_mag1_%d' % counter)]\n",
    "    base_columns = base_columns + [('nrm_ct_rt_err_mag1_%d' % counter)]\n",
    "    base_columns = base_columns + [('inst_vega_mag1_%d' % counter)]\n",
    "    base_columns = base_columns + [('mag_mag1_%d' % counter)]\n",
    "    base_columns = base_columns + [('mag1_err_%d' % counter)]\n",
    "    base_columns = base_columns + [('chi_mag1_%d' % counter)]\n",
    "    base_columns = base_columns + [('snr_mag1_%d' % counter)]\n",
    "    base_columns = base_columns + [('sharp_mag1_%d' % counter)]\n",
    "    base_columns = base_columns + [('round_mag1_%d' % counter)]\n",
    "    base_columns = base_columns + [('crowd_mag1_%d' % counter)]\n",
    "    base_columns = base_columns + [('flag_mag1_%d' % counter)]\n",
    "\n",
    "for counter in range(0,mag2number):\n",
    "    base_columns = base_columns + [('cts_mag2%d' % counter)]\n",
    "    base_columns = base_columns + [('sky_mag2_%d' % counter)]\n",
    "    base_columns = base_columns + [('nrm_ct_rt_mag1_%d' % counter)]\n",
    "    base_columns = base_columns + [('nrm_ct_rt_err_mag1_%d' % counter)]\n",
    "    base_columns = base_columns + [('inst_vega_mag1_%d' % counter)]\n",
    "    base_columns = base_columns + [('mag_mag1_%d' % counter)]\n",
    "    base_columns = base_columns + [('mag1_err_%d' % counter)]\n",
    "    base_columns = base_columns + [('chi_mag1_%d' % counter)]\n",
    "    base_columns = base_columns + [('snr_mag1_%d' % counter)]\n",
    "    base_columns = base_columns + [('sharp_mag1_%d' % counter)]\n",
    "    base_columns = base_columns + [('round_mag1_%d' % counter)]\n",
    "    base_columns = base_columns + [('crowd_mag1_%d' % counter)]\n",
    "    base_columns = base_columns + [('flag_mag1_%d' % counter)]\n",
    "\n",
    "    \n",
    "print(base_columns)\n",
    "    \n",
    "fake_df.columns=base_columns \n"
   ]
  },
  {
   "cell_type": "code",
   "execution_count": 10,
   "metadata": {
    "collapsed": true,
    "scrolled": true
   },
   "outputs": [],
   "source": [
    "# correct Y position if the star is in the upper CCD\n",
    "fake_df['yIn'] = fake_df.apply(lambda x: x.yIn+2000 if x.extensionIn>1 else x.yIn, axis=1) \n",
    "# fake_df.iloc[:5,:16] #print some relevant columns to see if correct"
   ]
  },
  {
   "cell_type": "code",
   "execution_count": 54,
   "metadata": {},
   "outputs": [
    {
     "ename": "KeyError",
     "evalue": "'snr_mag1Out'",
     "output_type": "error",
     "traceback": [
      "\u001b[0;31m---------------------------------------------------------------------------\u001b[0m",
      "\u001b[0;31mKeyError\u001b[0m                                  Traceback (most recent call last)",
      "\u001b[0;32m~/anaconda3/lib/python3.6/site-packages/pandas/core/indexes/base.py\u001b[0m in \u001b[0;36mget_loc\u001b[0;34m(self, key, method, tolerance)\u001b[0m\n\u001b[1;32m   2441\u001b[0m             \u001b[0;32mtry\u001b[0m\u001b[0;34m:\u001b[0m\u001b[0;34m\u001b[0m\u001b[0m\n\u001b[0;32m-> 2442\u001b[0;31m                 \u001b[0;32mreturn\u001b[0m \u001b[0mself\u001b[0m\u001b[0;34m.\u001b[0m\u001b[0m_engine\u001b[0m\u001b[0;34m.\u001b[0m\u001b[0mget_loc\u001b[0m\u001b[0;34m(\u001b[0m\u001b[0mkey\u001b[0m\u001b[0;34m)\u001b[0m\u001b[0;34m\u001b[0m\u001b[0m\n\u001b[0m\u001b[1;32m   2443\u001b[0m             \u001b[0;32mexcept\u001b[0m \u001b[0mKeyError\u001b[0m\u001b[0;34m:\u001b[0m\u001b[0;34m\u001b[0m\u001b[0m\n",
      "\u001b[0;32mpandas/_libs/index.pyx\u001b[0m in \u001b[0;36mpandas._libs.index.IndexEngine.get_loc\u001b[0;34m()\u001b[0m\n",
      "\u001b[0;32mpandas/_libs/index.pyx\u001b[0m in \u001b[0;36mpandas._libs.index.IndexEngine.get_loc\u001b[0;34m()\u001b[0m\n",
      "\u001b[0;32mpandas/_libs/hashtable_class_helper.pxi\u001b[0m in \u001b[0;36mpandas._libs.hashtable.PyObjectHashTable.get_item\u001b[0;34m()\u001b[0m\n",
      "\u001b[0;32mpandas/_libs/hashtable_class_helper.pxi\u001b[0m in \u001b[0;36mpandas._libs.hashtable.PyObjectHashTable.get_item\u001b[0;34m()\u001b[0m\n",
      "\u001b[0;31mKeyError\u001b[0m: 'snr_mag1Out'",
      "\nDuring handling of the above exception, another exception occurred:\n",
      "\u001b[0;31mKeyError\u001b[0m                                  Traceback (most recent call last)",
      "\u001b[0;32m<ipython-input-54-41eae895df25>\u001b[0m in \u001b[0;36m<module>\u001b[0;34m()\u001b[0m\n\u001b[1;32m      3\u001b[0m     \u001b[0;34m(\u001b[0m\u001b[0mfake_df\u001b[0m\u001b[0;34m[\u001b[0m\u001b[0;34m'chiOut'\u001b[0m\u001b[0;34m]\u001b[0m \u001b[0;34m<\u001b[0m \u001b[0;36m2.5\u001b[0m\u001b[0;34m)\u001b[0m \u001b[0;34m&\u001b[0m \u001b[0;34m(\u001b[0m\u001b[0mfake_df\u001b[0m\u001b[0;34m[\u001b[0m\u001b[0;34m'sharpOut'\u001b[0m\u001b[0;34m]\u001b[0m\u001b[0;34m*\u001b[0m\u001b[0mfake_df\u001b[0m\u001b[0;34m[\u001b[0m\u001b[0;34m'sharpOut'\u001b[0m\u001b[0;34m]\u001b[0m \u001b[0;34m<=\u001b[0m \u001b[0;36m0.09\u001b[0m\u001b[0;34m)\u001b[0m \u001b[0;34m&\u001b[0m \u001b[0;34m(\u001b[0m\u001b[0mfake_df\u001b[0m\u001b[0;34m[\u001b[0m\u001b[0;34m'typeOut'\u001b[0m\u001b[0;34m]\u001b[0m \u001b[0;34m<=\u001b[0m \u001b[0;36m2\u001b[0m\u001b[0;34m)\u001b[0m\u001b[0;34m\u001b[0m\u001b[0m\n\u001b[1;32m      4\u001b[0m     \u001b[0;34m&\u001b[0m \u001b[0;34m(\u001b[0m\u001b[0mfake_df\u001b[0m\u001b[0;34m[\u001b[0m\u001b[0;34m'snr_mag1Out'\u001b[0m\u001b[0;34m]\u001b[0m \u001b[0;34m>=\u001b[0m \u001b[0;36m5\u001b[0m\u001b[0;34m)\u001b[0m \u001b[0;34m&\u001b[0m \u001b[0;34m(\u001b[0m\u001b[0mfake_df\u001b[0m\u001b[0;34m[\u001b[0m\u001b[0;34m'flag_mag1Out'\u001b[0m\u001b[0;34m]\u001b[0m \u001b[0;34m==\u001b[0m \u001b[0;36m0\u001b[0m\u001b[0;34m)\u001b[0m \u001b[0;34m&\u001b[0m \u001b[0;34m(\u001b[0m\u001b[0mfake_df\u001b[0m\u001b[0;34m[\u001b[0m\u001b[0;34m'snr_mag2Out'\u001b[0m\u001b[0;34m]\u001b[0m \u001b[0;34m>=\u001b[0m \u001b[0;36m5\u001b[0m\u001b[0;34m)\u001b[0m\u001b[0;34m\u001b[0m\u001b[0m\n\u001b[0;32m----> 5\u001b[0;31m     & (fake_df['flag_magout'] == 0),True, False)\n\u001b[0m\u001b[1;32m      6\u001b[0m \u001b[0;34m\u001b[0m\u001b[0m\n\u001b[1;32m      7\u001b[0m \u001b[0;31m# fake_df['selected'][:10] #print some relevant columns to see if correct\u001b[0m\u001b[0;34m\u001b[0m\u001b[0;34m\u001b[0m\u001b[0m\n",
      "\u001b[0;32m~/anaconda3/lib/python3.6/site-packages/pandas/core/frame.py\u001b[0m in \u001b[0;36m__getitem__\u001b[0;34m(self, key)\u001b[0m\n\u001b[1;32m   1962\u001b[0m             \u001b[0;32mreturn\u001b[0m \u001b[0mself\u001b[0m\u001b[0;34m.\u001b[0m\u001b[0m_getitem_multilevel\u001b[0m\u001b[0;34m(\u001b[0m\u001b[0mkey\u001b[0m\u001b[0;34m)\u001b[0m\u001b[0;34m\u001b[0m\u001b[0m\n\u001b[1;32m   1963\u001b[0m         \u001b[0;32melse\u001b[0m\u001b[0;34m:\u001b[0m\u001b[0;34m\u001b[0m\u001b[0m\n\u001b[0;32m-> 1964\u001b[0;31m             \u001b[0;32mreturn\u001b[0m \u001b[0mself\u001b[0m\u001b[0;34m.\u001b[0m\u001b[0m_getitem_column\u001b[0m\u001b[0;34m(\u001b[0m\u001b[0mkey\u001b[0m\u001b[0;34m)\u001b[0m\u001b[0;34m\u001b[0m\u001b[0m\n\u001b[0m\u001b[1;32m   1965\u001b[0m \u001b[0;34m\u001b[0m\u001b[0m\n\u001b[1;32m   1966\u001b[0m     \u001b[0;32mdef\u001b[0m \u001b[0m_getitem_column\u001b[0m\u001b[0;34m(\u001b[0m\u001b[0mself\u001b[0m\u001b[0;34m,\u001b[0m \u001b[0mkey\u001b[0m\u001b[0;34m)\u001b[0m\u001b[0;34m:\u001b[0m\u001b[0;34m\u001b[0m\u001b[0m\n",
      "\u001b[0;32m~/anaconda3/lib/python3.6/site-packages/pandas/core/frame.py\u001b[0m in \u001b[0;36m_getitem_column\u001b[0;34m(self, key)\u001b[0m\n\u001b[1;32m   1974\u001b[0m         \u001b[0mresult\u001b[0m \u001b[0;34m=\u001b[0m \u001b[0mself\u001b[0m\u001b[0;34m.\u001b[0m\u001b[0m_constructor\u001b[0m\u001b[0;34m(\u001b[0m\u001b[0mself\u001b[0m\u001b[0;34m.\u001b[0m\u001b[0m_data\u001b[0m\u001b[0;34m.\u001b[0m\u001b[0mget\u001b[0m\u001b[0;34m(\u001b[0m\u001b[0mkey\u001b[0m\u001b[0;34m)\u001b[0m\u001b[0;34m)\u001b[0m\u001b[0;34m\u001b[0m\u001b[0m\n\u001b[1;32m   1975\u001b[0m         \u001b[0;32mif\u001b[0m \u001b[0mresult\u001b[0m\u001b[0;34m.\u001b[0m\u001b[0mcolumns\u001b[0m\u001b[0;34m.\u001b[0m\u001b[0mis_unique\u001b[0m\u001b[0;34m:\u001b[0m\u001b[0;34m\u001b[0m\u001b[0m\n\u001b[0;32m-> 1976\u001b[0;31m             \u001b[0mresult\u001b[0m \u001b[0;34m=\u001b[0m \u001b[0mresult\u001b[0m\u001b[0;34m[\u001b[0m\u001b[0mkey\u001b[0m\u001b[0;34m]\u001b[0m\u001b[0;34m\u001b[0m\u001b[0m\n\u001b[0m\u001b[1;32m   1977\u001b[0m \u001b[0;34m\u001b[0m\u001b[0m\n\u001b[1;32m   1978\u001b[0m         \u001b[0;32mreturn\u001b[0m \u001b[0mresult\u001b[0m\u001b[0;34m\u001b[0m\u001b[0m\n",
      "\u001b[0;32m~/anaconda3/lib/python3.6/site-packages/pandas/core/frame.py\u001b[0m in \u001b[0;36m__getitem__\u001b[0;34m(self, key)\u001b[0m\n\u001b[1;32m   1962\u001b[0m             \u001b[0;32mreturn\u001b[0m \u001b[0mself\u001b[0m\u001b[0;34m.\u001b[0m\u001b[0m_getitem_multilevel\u001b[0m\u001b[0;34m(\u001b[0m\u001b[0mkey\u001b[0m\u001b[0;34m)\u001b[0m\u001b[0;34m\u001b[0m\u001b[0m\n\u001b[1;32m   1963\u001b[0m         \u001b[0;32melse\u001b[0m\u001b[0;34m:\u001b[0m\u001b[0;34m\u001b[0m\u001b[0m\n\u001b[0;32m-> 1964\u001b[0;31m             \u001b[0;32mreturn\u001b[0m \u001b[0mself\u001b[0m\u001b[0;34m.\u001b[0m\u001b[0m_getitem_column\u001b[0m\u001b[0;34m(\u001b[0m\u001b[0mkey\u001b[0m\u001b[0;34m)\u001b[0m\u001b[0;34m\u001b[0m\u001b[0m\n\u001b[0m\u001b[1;32m   1965\u001b[0m \u001b[0;34m\u001b[0m\u001b[0m\n\u001b[1;32m   1966\u001b[0m     \u001b[0;32mdef\u001b[0m \u001b[0m_getitem_column\u001b[0m\u001b[0;34m(\u001b[0m\u001b[0mself\u001b[0m\u001b[0;34m,\u001b[0m \u001b[0mkey\u001b[0m\u001b[0;34m)\u001b[0m\u001b[0;34m:\u001b[0m\u001b[0;34m\u001b[0m\u001b[0m\n",
      "\u001b[0;32m~/anaconda3/lib/python3.6/site-packages/pandas/core/frame.py\u001b[0m in \u001b[0;36m_getitem_column\u001b[0;34m(self, key)\u001b[0m\n\u001b[1;32m   1969\u001b[0m         \u001b[0;31m# get column\u001b[0m\u001b[0;34m\u001b[0m\u001b[0;34m\u001b[0m\u001b[0m\n\u001b[1;32m   1970\u001b[0m         \u001b[0;32mif\u001b[0m \u001b[0mself\u001b[0m\u001b[0;34m.\u001b[0m\u001b[0mcolumns\u001b[0m\u001b[0;34m.\u001b[0m\u001b[0mis_unique\u001b[0m\u001b[0;34m:\u001b[0m\u001b[0;34m\u001b[0m\u001b[0m\n\u001b[0;32m-> 1971\u001b[0;31m             \u001b[0;32mreturn\u001b[0m \u001b[0mself\u001b[0m\u001b[0;34m.\u001b[0m\u001b[0m_get_item_cache\u001b[0m\u001b[0;34m(\u001b[0m\u001b[0mkey\u001b[0m\u001b[0;34m)\u001b[0m\u001b[0;34m\u001b[0m\u001b[0m\n\u001b[0m\u001b[1;32m   1972\u001b[0m \u001b[0;34m\u001b[0m\u001b[0m\n\u001b[1;32m   1973\u001b[0m         \u001b[0;31m# duplicate columns & possible reduce dimensionality\u001b[0m\u001b[0;34m\u001b[0m\u001b[0;34m\u001b[0m\u001b[0m\n",
      "\u001b[0;32m~/anaconda3/lib/python3.6/site-packages/pandas/core/generic.py\u001b[0m in \u001b[0;36m_get_item_cache\u001b[0;34m(self, item)\u001b[0m\n\u001b[1;32m   1643\u001b[0m         \u001b[0mres\u001b[0m \u001b[0;34m=\u001b[0m \u001b[0mcache\u001b[0m\u001b[0;34m.\u001b[0m\u001b[0mget\u001b[0m\u001b[0;34m(\u001b[0m\u001b[0mitem\u001b[0m\u001b[0;34m)\u001b[0m\u001b[0;34m\u001b[0m\u001b[0m\n\u001b[1;32m   1644\u001b[0m         \u001b[0;32mif\u001b[0m \u001b[0mres\u001b[0m \u001b[0;32mis\u001b[0m \u001b[0;32mNone\u001b[0m\u001b[0;34m:\u001b[0m\u001b[0;34m\u001b[0m\u001b[0m\n\u001b[0;32m-> 1645\u001b[0;31m             \u001b[0mvalues\u001b[0m \u001b[0;34m=\u001b[0m \u001b[0mself\u001b[0m\u001b[0;34m.\u001b[0m\u001b[0m_data\u001b[0m\u001b[0;34m.\u001b[0m\u001b[0mget\u001b[0m\u001b[0;34m(\u001b[0m\u001b[0mitem\u001b[0m\u001b[0;34m)\u001b[0m\u001b[0;34m\u001b[0m\u001b[0m\n\u001b[0m\u001b[1;32m   1646\u001b[0m             \u001b[0mres\u001b[0m \u001b[0;34m=\u001b[0m \u001b[0mself\u001b[0m\u001b[0;34m.\u001b[0m\u001b[0m_box_item_values\u001b[0m\u001b[0;34m(\u001b[0m\u001b[0mitem\u001b[0m\u001b[0;34m,\u001b[0m \u001b[0mvalues\u001b[0m\u001b[0;34m)\u001b[0m\u001b[0;34m\u001b[0m\u001b[0m\n\u001b[1;32m   1647\u001b[0m             \u001b[0mcache\u001b[0m\u001b[0;34m[\u001b[0m\u001b[0mitem\u001b[0m\u001b[0;34m]\u001b[0m \u001b[0;34m=\u001b[0m \u001b[0mres\u001b[0m\u001b[0;34m\u001b[0m\u001b[0m\n",
      "\u001b[0;32m~/anaconda3/lib/python3.6/site-packages/pandas/core/internals.py\u001b[0m in \u001b[0;36mget\u001b[0;34m(self, item, fastpath)\u001b[0m\n\u001b[1;32m   3588\u001b[0m \u001b[0;34m\u001b[0m\u001b[0m\n\u001b[1;32m   3589\u001b[0m             \u001b[0;32mif\u001b[0m \u001b[0;32mnot\u001b[0m \u001b[0misnull\u001b[0m\u001b[0;34m(\u001b[0m\u001b[0mitem\u001b[0m\u001b[0;34m)\u001b[0m\u001b[0;34m:\u001b[0m\u001b[0;34m\u001b[0m\u001b[0m\n\u001b[0;32m-> 3590\u001b[0;31m                 \u001b[0mloc\u001b[0m \u001b[0;34m=\u001b[0m \u001b[0mself\u001b[0m\u001b[0;34m.\u001b[0m\u001b[0mitems\u001b[0m\u001b[0;34m.\u001b[0m\u001b[0mget_loc\u001b[0m\u001b[0;34m(\u001b[0m\u001b[0mitem\u001b[0m\u001b[0;34m)\u001b[0m\u001b[0;34m\u001b[0m\u001b[0m\n\u001b[0m\u001b[1;32m   3591\u001b[0m             \u001b[0;32melse\u001b[0m\u001b[0;34m:\u001b[0m\u001b[0;34m\u001b[0m\u001b[0m\n\u001b[1;32m   3592\u001b[0m                 \u001b[0mindexer\u001b[0m \u001b[0;34m=\u001b[0m \u001b[0mnp\u001b[0m\u001b[0;34m.\u001b[0m\u001b[0marange\u001b[0m\u001b[0;34m(\u001b[0m\u001b[0mlen\u001b[0m\u001b[0;34m(\u001b[0m\u001b[0mself\u001b[0m\u001b[0;34m.\u001b[0m\u001b[0mitems\u001b[0m\u001b[0;34m)\u001b[0m\u001b[0;34m)\u001b[0m\u001b[0;34m[\u001b[0m\u001b[0misnull\u001b[0m\u001b[0;34m(\u001b[0m\u001b[0mself\u001b[0m\u001b[0;34m.\u001b[0m\u001b[0mitems\u001b[0m\u001b[0;34m)\u001b[0m\u001b[0;34m]\u001b[0m\u001b[0;34m\u001b[0m\u001b[0m\n",
      "\u001b[0;32m~/anaconda3/lib/python3.6/site-packages/pandas/core/indexes/base.py\u001b[0m in \u001b[0;36mget_loc\u001b[0;34m(self, key, method, tolerance)\u001b[0m\n\u001b[1;32m   2442\u001b[0m                 \u001b[0;32mreturn\u001b[0m \u001b[0mself\u001b[0m\u001b[0;34m.\u001b[0m\u001b[0m_engine\u001b[0m\u001b[0;34m.\u001b[0m\u001b[0mget_loc\u001b[0m\u001b[0;34m(\u001b[0m\u001b[0mkey\u001b[0m\u001b[0;34m)\u001b[0m\u001b[0;34m\u001b[0m\u001b[0m\n\u001b[1;32m   2443\u001b[0m             \u001b[0;32mexcept\u001b[0m \u001b[0mKeyError\u001b[0m\u001b[0;34m:\u001b[0m\u001b[0;34m\u001b[0m\u001b[0m\n\u001b[0;32m-> 2444\u001b[0;31m                 \u001b[0;32mreturn\u001b[0m \u001b[0mself\u001b[0m\u001b[0;34m.\u001b[0m\u001b[0m_engine\u001b[0m\u001b[0;34m.\u001b[0m\u001b[0mget_loc\u001b[0m\u001b[0;34m(\u001b[0m\u001b[0mself\u001b[0m\u001b[0;34m.\u001b[0m\u001b[0m_maybe_cast_indexer\u001b[0m\u001b[0;34m(\u001b[0m\u001b[0mkey\u001b[0m\u001b[0;34m)\u001b[0m\u001b[0;34m)\u001b[0m\u001b[0;34m\u001b[0m\u001b[0m\n\u001b[0m\u001b[1;32m   2445\u001b[0m \u001b[0;34m\u001b[0m\u001b[0m\n\u001b[1;32m   2446\u001b[0m         \u001b[0mindexer\u001b[0m \u001b[0;34m=\u001b[0m \u001b[0mself\u001b[0m\u001b[0;34m.\u001b[0m\u001b[0mget_indexer\u001b[0m\u001b[0;34m(\u001b[0m\u001b[0;34m[\u001b[0m\u001b[0mkey\u001b[0m\u001b[0;34m]\u001b[0m\u001b[0;34m,\u001b[0m \u001b[0mmethod\u001b[0m\u001b[0;34m=\u001b[0m\u001b[0mmethod\u001b[0m\u001b[0;34m,\u001b[0m \u001b[0mtolerance\u001b[0m\u001b[0;34m=\u001b[0m\u001b[0mtolerance\u001b[0m\u001b[0;34m)\u001b[0m\u001b[0;34m\u001b[0m\u001b[0m\n",
      "\u001b[0;32mpandas/_libs/index.pyx\u001b[0m in \u001b[0;36mpandas._libs.index.IndexEngine.get_loc\u001b[0;34m()\u001b[0m\n",
      "\u001b[0;32mpandas/_libs/index.pyx\u001b[0m in \u001b[0;36mpandas._libs.index.IndexEngine.get_loc\u001b[0;34m()\u001b[0m\n",
      "\u001b[0;32mpandas/_libs/hashtable_class_helper.pxi\u001b[0m in \u001b[0;36mpandas._libs.hashtable.PyObjectHashTable.get_item\u001b[0;34m()\u001b[0m\n",
      "\u001b[0;32mpandas/_libs/hashtable_class_helper.pxi\u001b[0m in \u001b[0;36mpandas._libs.hashtable.PyObjectHashTable.get_item\u001b[0;34m()\u001b[0m\n",
      "\u001b[0;31mKeyError\u001b[0m: 'snr_mag1Out'"
     ]
    }
   ],
   "source": [
    "#make some selection cuts\n",
    "fake_df['selected']=np.where(\n",
    "    (fake_df['chiOut'] < 2.5) & (fake_df['sharpOut']*fake_df['sharpOut'] <= 0.09) & (fake_df['typeOut'] <= 2) \n",
    "    & (fake_df['snr_mag1Out'] >= 5) & (fake_df['flag_mag1Out'] == 0) & (fake_df['snr_mag2Out'] >= 5) \n",
    "    & (fake_df['flag_magout'] == 0),True, False)\n",
    "\n",
    "# fake_df['selected'][:10] #print some relevant columns to see if correct"
   ]
  },
  {
   "cell_type": "code",
   "execution_count": 12,
   "metadata": {
    "collapsed": true,
    "scrolled": true
   },
   "outputs": [],
   "source": [
    "#automation depending on number of filters we have\n",
    "\n",
    "#initalize columns to store denominator for magnitude conversion\n",
    "fake_df['vSumCounts'] = 0\n",
    "fake_df['iSumCounts'] = 0\n",
    "\n",
    "#find the denominator (sum of counts)\n",
    "for i in range(numberOfImagesPerFilter):\n",
    "    vColumnName = 'counts_V%d' %(i+1)\n",
    "    iColumnName = 'counts_I%d' %(i+1)\n",
    "    fake_df['vSumCounts'] =  fake_df['vSumCounts'] + fake_df[vColumnName]\n",
    "    fake_df['iSumCounts'] =  fake_df['iSumCounts'] + fake_df[iColumnName]"
   ]
  },
  {
   "cell_type": "code",
   "execution_count": 13,
   "metadata": {
    "collapsed": true
   },
   "outputs": [],
   "source": [
    "#convert to magnitudes\n",
    "fake_df['dV'] = fake_df.apply(lambda x: np.round(-2.5*np.log10(x.cts_V/(x.vSumCounts)),3) \n",
    "                          if x.selected is True else 99.999, axis=1)\n",
    "fake_df['dI'] = fake_df.apply(lambda x: np.round(-2.5*np.log10(x.cts_I/(x.iSumCounts)),3) \n",
    "                          if x.selected is True else 99.999, axis=1)"
   ]
  },
  {
   "cell_type": "code",
   "execution_count": 14,
   "metadata": {
    "collapsed": true
   },
   "outputs": [],
   "source": [
    "# #compare to old technique to make sure (this is assuming 2 input files in each filter)\n",
    "# fake_df['dVOG'] = fake_df.apply(lambda x: np.round(-2.5*np.log10(x.cts_V/(x.counts_V1+x.counts_V2)),3) \n",
    "#                           if x.selected is True else 99.999, axis=1)\n",
    "# fake_df['dIOG'] = fake_df.apply(lambda x: np.round(-2.5*np.log10(x.cts_I/(x.counts_I1+x.counts_I2)),3) \n",
    "#                           if x.selected is True else 99.999, axis=1)\n",
    "\n",
    "# fake_df['dVdiffTest'] = fake_df['dV'] - fake_df['dVOG']\n",
    "# fake_df['dIdiffTest'] = fake_df['dI'] - fake_df['dIOG']"
   ]
  },
  {
   "cell_type": "code",
   "execution_count": 14,
   "metadata": {
    "collapsed": true,
    "scrolled": true
   },
   "outputs": [],
   "source": [
    "# fake_df[fake_df['dVdiffTest'] != 0] #show any place there is a mismatch"
   ]
  },
  {
   "cell_type": "code",
   "execution_count": 15,
   "metadata": {
    "collapsed": true
   },
   "outputs": [],
   "source": [
    "# fake_df[fake_df['dIdiffTest'] != 0] #show any place there is a mismatch"
   ]
  },
  {
   "cell_type": "code",
   "execution_count": 16,
   "metadata": {
    "collapsed": true
   },
   "outputs": [],
   "source": [
    "#copy columns and create file\n",
    "fake2_df = fake_df[['mag_V1','mag_I1','inst_vega_V','inst_vega_I','dV','dI']].copy()\n",
    "fake2_df[:5] #print to have a quick look\n",
    "fake_cut_file = fake2_df.to_csv('%s.phot.fake2' % (prefix), sep=' ', header = True, index = False)"
   ]
  },
  {
   "cell_type": "code",
   "execution_count": null,
   "metadata": {
    "collapsed": true
   },
   "outputs": [],
   "source": []
  }
 ],
 "metadata": {
  "kernelspec": {
   "display_name": "Python 3",
   "language": "python",
   "name": "python3"
  },
  "language_info": {
   "codemirror_mode": {
    "name": "ipython",
    "version": 3
   },
   "file_extension": ".py",
   "mimetype": "text/x-python",
   "name": "python",
   "nbconvert_exporter": "python",
   "pygments_lexer": "ipython3",
   "version": "3.6.3"
  }
 },
 "nbformat": 4,
 "nbformat_minor": 2
}
