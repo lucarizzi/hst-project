{
 "cells": [
  {
   "cell_type": "code",
   "execution_count": 1,
   "metadata": {
    "collapsed": true
   },
   "outputs": [],
   "source": [
    "import csv\n",
    "import os\n",
    "import pandas as pd\n",
    "import numpy as np\n",
    "import matplotlib.pyplot as plt\n",
    "import matplotlib as mpl\n",
    "from scipy.stats import gaussian_kde\n",
    "from annotate import Annotate"
   ]
  },
  {
   "cell_type": "code",
   "execution_count": 2,
   "metadata": {
    "collapsed": true
   },
   "outputs": [],
   "source": [
    "#prefix = input(\"What is the name of the galaxy?\")\n",
    "#for easier inspection:\n",
    "prefix='NGC5128-S1'\n",
    "#prefix='CENA-131952'\n",
    "#prefix='CENA-132302'"
   ]
  },
  {
   "cell_type": "code",
   "execution_count": 3,
   "metadata": {
    "collapsed": true
   },
   "outputs": [],
   "source": [
    "#real photometry first\n",
    "real_file = \"%s.phot2\" % prefix #IF PHOT INSTEAD OF PHOT2, REACTIVATE LINE 31\n",
    "real_df = pd.read_csv(real_file, delim_whitespace=True, header=None) #create data frame \n",
    "real_df = real_df.iloc[:,:37] #select till relevant end of data frame (quality flag of I)"
   ]
  },
  {
   "cell_type": "code",
   "execution_count": 4,
   "metadata": {
    "collapsed": true
   },
   "outputs": [],
   "source": [
    "#name columns\n",
    "columns=['extension','chip','x','y','chi','snr','sharp','round','maj_ax','crowd','type',\n",
    "           'cts_V','sky_v','nrm_ct_rt_V','nrm_ct_rt_err_V','inst_vega_v','mag_V','Verr','chi_V','snr_v',\n",
    "           'sharp_V','round_V','crowd_V','flag_V','cts_I','sky_I','nrm_ct_rt_I','nrm_ct_rt_err_I', \n",
    "           'inst_vega_I','mag_I','Ierr','chi_I','snr_I','sharp_I','round_I','crowd_I','flag_I']\n",
    "\n",
    "#assign columns and preview\n",
    "real_df.columns=columns"
   ]
  },
  {
   "cell_type": "code",
   "execution_count": null,
   "metadata": {
    "collapsed": true
   },
   "outputs": [],
   "source": [
    "#fix y column if not on first chip- this is now already done when producing .phot2 file\n",
    "#real_df['y'] = real_df.apply(lambda x: x.y+2000 if x.extension>1 else x.y, axis=1)"
   ]
  },
  {
   "cell_type": "code",
   "execution_count": null,
   "metadata": {
    "collapsed": true
   },
   "outputs": [],
   "source": [
    "#establish cuts from below line\n",
    "#$5<=2.5 && $7*$7<=0.09 && $11<=2 && $20>=5 && $24==0 && $33>=5 && $37==0'' > ${TARG}.phot2\")\n",
    "real_cut = real_df[(real_df['chi'] < 2.5) & (real_df['sharp']*real_df['sharp'] <= 0.09) & (real_df['type'] <= 2) \n",
    "        & (real_df['snr_v'] >= 5) & (real_df['flag_V'] == 0) & (real_df['snr_I'] >= 5) \n",
    "        & (real_df['flag_I'] == 0)]"
   ]
  },
  {
   "cell_type": "code",
   "execution_count": null,
   "metadata": {
    "collapsed": true
   },
   "outputs": [],
   "source": [
    "# make density plot\n",
    "x = real_cut['x']\n",
    "y = real_cut['y']\n",
    "xy = np.vstack([x,y])\n",
    "z = gaussian_kde(xy)(xy)\n",
    "fig, ax = plt.subplots()\n",
    "ax.scatter(x, y, c=z, s=50, edgecolor='')\n",
    "print('Must make selection from top left to bottom right!')\n",
    "annotate = Annotate()\n",
    "plt.show()"
   ]
  },
  {
   "cell_type": "code",
   "execution_count": null,
   "metadata": {
    "collapsed": true
   },
   "outputs": [],
   "source": [
    "#open up coordinates and save as variables to be used later\n",
    "coordinate_file = open('coordinates.txt')\n",
    "for line in coordinate_file:\n",
    "    coords = line.strip().split()\n",
    "    x_low = int(coords[0])\n",
    "    x_high = int(coords[1])\n",
    "    y_high = int(coords[2])\n",
    "    y_low = int(coords[3])\n",
    "coordinate_file.close()\n",
    "print(x_low, x_high, y_low, y_high)"
   ]
  },
  {
   "cell_type": "code",
   "execution_count": null,
   "metadata": {},
   "outputs": [],
   "source": [
    "#establish additional cuts based on spatial selection\n",
    "real_galaxy = real_cut[(real_cut['x'] > x_low) & (real_cut['x'] < x_high) \n",
    "        & (real_cut['y'] > y_low) & (real_cut['y'] < y_high)]\n",
    "\n",
    "#make V-I plot\n",
    "mpl.rcParams['agg.path.chunksize'] = 10000\n",
    "real_galaxy.plot(x='V-I',y='inst_vega_I', marker='o', linestyle='None', markersize='2')\n",
    "axes = plt.gca()\n",
    "axes.set_xlim([-1,3])\n",
    "axes.set_ylim([28,22])\n",
    "axes.legend_.remove()\n",
    "plt.ylabel('V-I (Vega Magnitudes)')\n",
    "plt.ylabel('I Magnitude (Vega)')\n",
    "plt.show()"
   ]
  },
  {
   "cell_type": "code",
   "execution_count": null,
   "metadata": {
    "collapsed": true
   },
   "outputs": [],
   "source": []
  }
 ],
 "metadata": {
  "kernelspec": {
   "display_name": "Python 3",
   "language": "python",
   "name": "python3"
  },
  "language_info": {
   "codemirror_mode": {
    "name": "ipython",
    "version": 3
   },
   "file_extension": ".py",
   "mimetype": "text/x-python",
   "name": "python",
   "nbconvert_exporter": "python",
   "pygments_lexer": "ipython3",
   "version": "3.6.1"
  }
 },
 "nbformat": 4,
 "nbformat_minor": 2
}
